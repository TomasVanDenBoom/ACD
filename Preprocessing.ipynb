{
 "cells": [
  {
   "cell_type": "code",
   "execution_count": null,
   "id": "96c59926",
   "metadata": {},
   "outputs": [],
   "source": [
    "import os\n",
    "import pandas as pd\n",
    "import numpy as np"
   ]
  },
  {
   "cell_type": "code",
   "execution_count": null,
   "id": "9522cd4c",
   "metadata": {},
   "outputs": [],
   "source": [
    "# Load dataset\n",
    "dfpath = os.path.join(os.getcwd(), \"data\", \"training_data.csv\")\n",
    "print(\"Loading file from: {}\".format(dfpath))\n",
    "\n",
    "# Only store first 999999 rows for testing, comparable to data subset\n",
    "df = pd.read_csv(dfpath, header=0, nrows=999999)\n",
    "df.head()"
   ]
  },
  {
   "cell_type": "code",
   "execution_count": null,
   "id": "0f03314d",
   "metadata": {},
   "outputs": [],
   "source": [
    "# Sessionization\n",
    "# Taken from practical session file: Assumed this is about as efficient as it gets\n",
    "df['product_action'] = df['product_action'].fillna('view')\n",
    "df = df.groupby('session_id_hash')['product_action'].agg(list).reset_index()"
   ]
  },
  {
   "cell_type": "code",
   "execution_count": null,
   "id": "5e70c102",
   "metadata": {},
   "outputs": [],
   "source": [
    "# Drop all sessions with a length shorter than 5 or greater than 155\n",
    "# *Marginally* faster than practical session method (~.05s @ 1m rows). Readability?\n",
    "df.drop(df[~df.product_action.map(len).between(5, 155)].index, inplace=True)"
   ]
  },
  {
   "cell_type": "code",
   "execution_count": null,
   "id": "77479da2",
   "metadata": {},
   "outputs": [],
   "source": [
    "# Class labeling\n",
    "# From practical session. Improvement possible?\n",
    "df['purchase'] = np.where(df.product_action.map(set(['purchase']).issubset), 1, 0)"
   ]
  },
  {
   "cell_type": "code",
   "execution_count": null,
   "id": "cde6504b",
   "metadata": {},
   "outputs": [],
   "source": [
    "# Cutting down purchase sessions\n",
    "# Based on Carlijn Jurriaan's solution on Canvas discussion board\n",
    "df['product_action'] = df['product_action'].map(lambda x: x[0:(x.index('purchase'))] if 'purchase' in x else x)"
   ]
  },
  {
   "cell_type": "code",
   "execution_count": null,
   "id": "95be0a60",
   "metadata": {},
   "outputs": [],
   "source": [
    "# Sessionization\n"
   ]
  },
  {
   "cell_type": "code",
   "execution_count": null,
   "id": "344328ad",
   "metadata": {},
   "outputs": [],
   "source": []
  },
  {
   "cell_type": "code",
   "execution_count": null,
   "id": "bda91a45",
   "metadata": {},
   "outputs": [],
   "source": []
  }
 ],
 "metadata": {
  "kernelspec": {
   "display_name": "Python 3",
   "language": "python",
   "name": "python3"
  },
  "language_info": {
   "codemirror_mode": {
    "name": "ipython",
    "version": 3
   },
   "file_extension": ".py",
   "mimetype": "text/x-python",
   "name": "python",
   "nbconvert_exporter": "python",
   "pygments_lexer": "ipython3",
   "version": "3.8.8"
  }
 },
 "nbformat": 4,
 "nbformat_minor": 5
}

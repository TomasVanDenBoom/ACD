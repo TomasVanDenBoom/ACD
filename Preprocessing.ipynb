{
 "cells": [
  {
   "cell_type": "code",
   "execution_count": 1,
   "id": "96c59926",
   "metadata": {},
   "outputs": [],
   "source": [
    "import os\n",
    "import pandas as pd\n",
    "import numpy as np\n",
    "from collections import Counter"
   ]
  },
  {
   "cell_type": "code",
   "execution_count": 2,
   "id": "9522cd4c",
   "metadata": {},
   "outputs": [
    {
     "name": "stdout",
     "output_type": "stream",
     "text": [
      "Loading file from: C:\\Programming\\CustomerAnalysis\\GroupAssignment\\data\\training_data.csv\n"
     ]
    },
    {
     "data": {
      "text/html": [
       "<div>\n",
       "<style scoped>\n",
       "    .dataframe tbody tr th:only-of-type {\n",
       "        vertical-align: middle;\n",
       "    }\n",
       "\n",
       "    .dataframe tbody tr th {\n",
       "        vertical-align: top;\n",
       "    }\n",
       "\n",
       "    .dataframe thead th {\n",
       "        text-align: right;\n",
       "    }\n",
       "</style>\n",
       "<table border=\"1\" class=\"dataframe\">\n",
       "  <thead>\n",
       "    <tr style=\"text-align: right;\">\n",
       "      <th></th>\n",
       "      <th>session_id_hash</th>\n",
       "      <th>event_type</th>\n",
       "      <th>product_action</th>\n",
       "      <th>product_sku_hash</th>\n",
       "      <th>server_timestamp_epoch_ms</th>\n",
       "      <th>hashed_url</th>\n",
       "    </tr>\n",
       "  </thead>\n",
       "  <tbody>\n",
       "    <tr>\n",
       "      <th>0</th>\n",
       "      <td>20c458b802f6ea9374783bfc528b19421be977a6769785...</td>\n",
       "      <td>event_product</td>\n",
       "      <td>detail</td>\n",
       "      <td>d5157f8bc52965390fa21ad5842a8502bc3eb8b0930f3f...</td>\n",
       "      <td>1550885210881</td>\n",
       "      <td>7e4527ac6a32deed4f4f06bb7c49b907b7ca371e59d57d...</td>\n",
       "    </tr>\n",
       "    <tr>\n",
       "      <th>1</th>\n",
       "      <td>20c458b802f6ea9374783bfc528b19421be977a6769785...</td>\n",
       "      <td>event_product</td>\n",
       "      <td>detail</td>\n",
       "      <td>61ef3869355b78e11011f39fc7ac8f8dfb209b3442a9d5...</td>\n",
       "      <td>1550885213307</td>\n",
       "      <td>4ed279f4f0deab6dfc80f4f7bf49d527fd894fa478a9ce...</td>\n",
       "    </tr>\n",
       "    <tr>\n",
       "      <th>2</th>\n",
       "      <td>20c458b802f6ea9374783bfc528b19421be977a6769785...</td>\n",
       "      <td>pageview</td>\n",
       "      <td>NaN</td>\n",
       "      <td>NaN</td>\n",
       "      <td>1550885213307</td>\n",
       "      <td>4ed279f4f0deab6dfc80f4f7bf49d527fd894fa478a9ce...</td>\n",
       "    </tr>\n",
       "    <tr>\n",
       "      <th>3</th>\n",
       "      <td>20c458b802f6ea9374783bfc528b19421be977a6769785...</td>\n",
       "      <td>event_product</td>\n",
       "      <td>detail</td>\n",
       "      <td>d5157f8bc52965390fa21ad5842a8502bc3eb8b0930f3f...</td>\n",
       "      <td>1550885215484</td>\n",
       "      <td>7e4527ac6a32deed4f4f06bb7c49b907b7ca371e59d57d...</td>\n",
       "    </tr>\n",
       "    <tr>\n",
       "      <th>4</th>\n",
       "      <td>20c458b802f6ea9374783bfc528b19421be977a6769785...</td>\n",
       "      <td>pageview</td>\n",
       "      <td>NaN</td>\n",
       "      <td>NaN</td>\n",
       "      <td>1550885215484</td>\n",
       "      <td>7e4527ac6a32deed4f4f06bb7c49b907b7ca371e59d57d...</td>\n",
       "    </tr>\n",
       "  </tbody>\n",
       "</table>\n",
       "</div>"
      ],
      "text/plain": [
       "                                     session_id_hash     event_type  \\\n",
       "0  20c458b802f6ea9374783bfc528b19421be977a6769785...  event_product   \n",
       "1  20c458b802f6ea9374783bfc528b19421be977a6769785...  event_product   \n",
       "2  20c458b802f6ea9374783bfc528b19421be977a6769785...       pageview   \n",
       "3  20c458b802f6ea9374783bfc528b19421be977a6769785...  event_product   \n",
       "4  20c458b802f6ea9374783bfc528b19421be977a6769785...       pageview   \n",
       "\n",
       "  product_action                                   product_sku_hash  \\\n",
       "0         detail  d5157f8bc52965390fa21ad5842a8502bc3eb8b0930f3f...   \n",
       "1         detail  61ef3869355b78e11011f39fc7ac8f8dfb209b3442a9d5...   \n",
       "2            NaN                                                NaN   \n",
       "3         detail  d5157f8bc52965390fa21ad5842a8502bc3eb8b0930f3f...   \n",
       "4            NaN                                                NaN   \n",
       "\n",
       "   server_timestamp_epoch_ms  \\\n",
       "0              1550885210881   \n",
       "1              1550885213307   \n",
       "2              1550885213307   \n",
       "3              1550885215484   \n",
       "4              1550885215484   \n",
       "\n",
       "                                          hashed_url  \n",
       "0  7e4527ac6a32deed4f4f06bb7c49b907b7ca371e59d57d...  \n",
       "1  4ed279f4f0deab6dfc80f4f7bf49d527fd894fa478a9ce...  \n",
       "2  4ed279f4f0deab6dfc80f4f7bf49d527fd894fa478a9ce...  \n",
       "3  7e4527ac6a32deed4f4f06bb7c49b907b7ca371e59d57d...  \n",
       "4  7e4527ac6a32deed4f4f06bb7c49b907b7ca371e59d57d...  "
      ]
     },
     "execution_count": 2,
     "metadata": {},
     "output_type": "execute_result"
    }
   ],
   "source": [
    "# Load dataset\n",
    "dfpath = os.path.join(os.getcwd(), \"data\", \"training_data.csv\")\n",
    "print(\"Loading file from: {}\".format(dfpath))\n",
    "\n",
    "# Only store first 999999 rows for testing, comparable to data subset\n",
    "df = pd.read_csv(dfpath, header=0, nrows=999999)\n",
    "df.head()"
   ]
  },
  {
   "cell_type": "code",
   "execution_count": 3,
   "id": "0f03314d",
   "metadata": {},
   "outputs": [
    {
     "data": {
      "text/plain": [
       "(138074, 1)"
      ]
     },
     "execution_count": 3,
     "metadata": {},
     "output_type": "execute_result"
    }
   ],
   "source": [
    "# Sessionization\n",
    "# Taken from practical session file: Assumed this is about as efficient as it gets\n",
    "df['product_action'] = df['product_action'].fillna('view')\n",
    "df = df.groupby('session_id_hash')['product_action'].agg(tuple).reset_index()\n",
    "del df['session_id_hash']\n",
    "df.shape"
   ]
  },
  {
   "cell_type": "code",
   "execution_count": 4,
   "id": "3de8445a",
   "metadata": {},
   "outputs": [
    {
     "data": {
      "text/plain": [
       "(5626, 1)"
      ]
     },
     "execution_count": 4,
     "metadata": {},
     "output_type": "execute_result"
    }
   ],
   "source": [
    "# Drop all sessions not containing any 'add' events\n",
    "df.drop(df[df.product_action.map(lambda x: 'add' not in x)].index, inplace=True)\n",
    "df.shape"
   ]
  },
  {
   "cell_type": "code",
   "execution_count": 5,
   "id": "344328ad",
   "metadata": {},
   "outputs": [
    {
     "data": {
      "text/html": [
       "<div>\n",
       "<style scoped>\n",
       "    .dataframe tbody tr th:only-of-type {\n",
       "        vertical-align: middle;\n",
       "    }\n",
       "\n",
       "    .dataframe tbody tr th {\n",
       "        vertical-align: top;\n",
       "    }\n",
       "\n",
       "    .dataframe thead th {\n",
       "        text-align: right;\n",
       "    }\n",
       "</style>\n",
       "<table border=\"1\" class=\"dataframe\">\n",
       "  <thead>\n",
       "    <tr style=\"text-align: right;\">\n",
       "      <th></th>\n",
       "      <th>product_action</th>\n",
       "    </tr>\n",
       "  </thead>\n",
       "  <tbody>\n",
       "    <tr>\n",
       "      <th>0</th>\n",
       "      <td>(view, detail, view, view, view, detail, view,...</td>\n",
       "    </tr>\n",
       "    <tr>\n",
       "      <th>1</th>\n",
       "      <td>(view, view, view, view, view, view, view, vie...</td>\n",
       "    </tr>\n",
       "    <tr>\n",
       "      <th>10</th>\n",
       "      <td>(view, remove, view, view, view)</td>\n",
       "    </tr>\n",
       "    <tr>\n",
       "      <th>17</th>\n",
       "      <td>(remove, view, view, view, detail, view, view,...</td>\n",
       "    </tr>\n",
       "    <tr>\n",
       "      <th>39</th>\n",
       "      <td>(add, view, remove, view, view, view, view, de...</td>\n",
       "    </tr>\n",
       "  </tbody>\n",
       "</table>\n",
       "</div>"
      ],
      "text/plain": [
       "                                       product_action\n",
       "0   (view, detail, view, view, view, detail, view,...\n",
       "1   (view, view, view, view, view, view, view, vie...\n",
       "10                   (view, remove, view, view, view)\n",
       "17  (remove, view, view, view, detail, view, view,...\n",
       "39  (add, view, remove, view, view, view, view, de..."
      ]
     },
     "execution_count": 5,
     "metadata": {},
     "output_type": "execute_result"
    }
   ],
   "source": [
    "# Slice the head of the sessions until after the first add event\n",
    "df['product_action'] = df['product_action'].map(lambda x: x[x.index('add') + 1:-1])\n",
    "df.head()"
   ]
  },
  {
   "cell_type": "code",
   "execution_count": 6,
   "id": "77479da2",
   "metadata": {},
   "outputs": [],
   "source": [
    "# Class labeling\n",
    "# From practical session.\n",
    "df['purchase'] = np.where(df.product_action.map(set(['purchase']).issubset), 1, 0)"
   ]
  },
  {
   "cell_type": "code",
   "execution_count": 7,
   "id": "cde6504b",
   "metadata": {},
   "outputs": [
    {
     "data": {
      "text/html": [
       "<div>\n",
       "<style scoped>\n",
       "    .dataframe tbody tr th:only-of-type {\n",
       "        vertical-align: middle;\n",
       "    }\n",
       "\n",
       "    .dataframe tbody tr th {\n",
       "        vertical-align: top;\n",
       "    }\n",
       "\n",
       "    .dataframe thead th {\n",
       "        text-align: right;\n",
       "    }\n",
       "</style>\n",
       "<table border=\"1\" class=\"dataframe\">\n",
       "  <thead>\n",
       "    <tr style=\"text-align: right;\">\n",
       "      <th></th>\n",
       "      <th>product_action</th>\n",
       "      <th>purchase</th>\n",
       "    </tr>\n",
       "  </thead>\n",
       "  <tbody>\n",
       "    <tr>\n",
       "      <th>0</th>\n",
       "      <td>(view, detail, view, view, view, detail, view,...</td>\n",
       "      <td>0</td>\n",
       "    </tr>\n",
       "    <tr>\n",
       "      <th>1</th>\n",
       "      <td>(view, view, view, view, view, view, view, vie...</td>\n",
       "      <td>0</td>\n",
       "    </tr>\n",
       "    <tr>\n",
       "      <th>10</th>\n",
       "      <td>(view, remove, view, view, view)</td>\n",
       "      <td>0</td>\n",
       "    </tr>\n",
       "    <tr>\n",
       "      <th>17</th>\n",
       "      <td>(remove, view, view, view, detail, view, view,...</td>\n",
       "      <td>0</td>\n",
       "    </tr>\n",
       "    <tr>\n",
       "      <th>39</th>\n",
       "      <td>(add, view, remove, view, view, view, view, de...</td>\n",
       "      <td>1</td>\n",
       "    </tr>\n",
       "  </tbody>\n",
       "</table>\n",
       "</div>"
      ],
      "text/plain": [
       "                                       product_action  purchase\n",
       "0   (view, detail, view, view, view, detail, view,...         0\n",
       "1   (view, view, view, view, view, view, view, vie...         0\n",
       "10                   (view, remove, view, view, view)         0\n",
       "17  (remove, view, view, view, detail, view, view,...         0\n",
       "39  (add, view, remove, view, view, view, view, de...         1"
      ]
     },
     "execution_count": 7,
     "metadata": {},
     "output_type": "execute_result"
    }
   ],
   "source": [
    "# Cutting down purchase sessions\n",
    "# Based on Carlijn Jurriaan's solution on Canvas discussion board\n",
    "df['product_action'] = df['product_action'].map(lambda x: x[0:x.index('purchase')] if 'purchase' in x else x)\n",
    "\n",
    "# Clear any empty lists from the database. Not sure if this is strictly necessary, given other filters.\n",
    "df = df[df['product_action'].str.len() > 0]\n",
    "df.head()"
   ]
  },
  {
   "cell_type": "code",
   "execution_count": 8,
   "id": "5e70c102",
   "metadata": {},
   "outputs": [
    {
     "data": {
      "text/plain": [
       "(3298, 2)"
      ]
     },
     "execution_count": 8,
     "metadata": {},
     "output_type": "execute_result"
    }
   ],
   "source": [
    "# Drop all sessions with a length shorter than 5 or greater than 155\n",
    "# Moved down since we're not evaluating any sessions with < 5 final results anyway\n",
    "df.drop(df[~df.product_action.map(len).between(5, 155)].index, inplace=True)\n",
    "df = df.reset_index()\n",
    "del df['index']\n",
    "df.shape"
   ]
  },
  {
   "cell_type": "code",
   "execution_count": 9,
   "id": "95be0a60",
   "metadata": {},
   "outputs": [
    {
     "name": "stdout",
     "output_type": "stream",
     "text": [
      "Counter({'view': 50851, 'detail': 15086, 'remove': 6362, 'add': 2619}) \n",
      "Symbol alphabet:  {'view': 1, 'detail': 2, 'add': 3, 'remove': 4}\n"
     ]
    },
    {
     "data": {
      "text/html": [
       "<div>\n",
       "<style scoped>\n",
       "    .dataframe tbody tr th:only-of-type {\n",
       "        vertical-align: middle;\n",
       "    }\n",
       "\n",
       "    .dataframe tbody tr th {\n",
       "        vertical-align: top;\n",
       "    }\n",
       "\n",
       "    .dataframe thead th {\n",
       "        text-align: right;\n",
       "    }\n",
       "</style>\n",
       "<table border=\"1\" class=\"dataframe\">\n",
       "  <thead>\n",
       "    <tr style=\"text-align: right;\">\n",
       "      <th></th>\n",
       "      <th>session</th>\n",
       "      <th>purchase</th>\n",
       "    </tr>\n",
       "  </thead>\n",
       "  <tbody>\n",
       "    <tr>\n",
       "      <th>0</th>\n",
       "      <td>(1, 2, 1, 1, 1, 2, 1, 2, 1, 3, 1, 1, 1, 1, 2, ...</td>\n",
       "      <td>0</td>\n",
       "    </tr>\n",
       "    <tr>\n",
       "      <th>1</th>\n",
       "      <td>(1, 1, 1, 1, 1, 1, 1, 1, 2, 1, 3, 1, 1, 2, 1, ...</td>\n",
       "      <td>0</td>\n",
       "    </tr>\n",
       "    <tr>\n",
       "      <th>2</th>\n",
       "      <td>(1, 4, 1, 1, 1)</td>\n",
       "      <td>0</td>\n",
       "    </tr>\n",
       "    <tr>\n",
       "      <th>3</th>\n",
       "      <td>(4, 1, 1, 1, 2, 1, 1, 1, 1, 1, 1, 4, 1, 2, 1, ...</td>\n",
       "      <td>0</td>\n",
       "    </tr>\n",
       "    <tr>\n",
       "      <th>4</th>\n",
       "      <td>(3, 1, 4, 1, 1, 1, 1, 2, 3, 1, 2, 1, 1, 2, 1, ...</td>\n",
       "      <td>1</td>\n",
       "    </tr>\n",
       "  </tbody>\n",
       "</table>\n",
       "</div>"
      ],
      "text/plain": [
       "                                             session  purchase\n",
       "0  (1, 2, 1, 1, 1, 2, 1, 2, 1, 3, 1, 1, 1, 1, 2, ...         0\n",
       "1  (1, 1, 1, 1, 1, 1, 1, 1, 2, 1, 3, 1, 1, 2, 1, ...         0\n",
       "2                                    (1, 4, 1, 1, 1)         0\n",
       "3  (4, 1, 1, 1, 2, 1, 1, 1, 1, 1, 1, 4, 1, 2, 1, ...         0\n",
       "4  (3, 1, 4, 1, 1, 1, 1, 2, 3, 1, 2, 1, 1, 2, 1, ...         1"
      ]
     },
     "execution_count": 9,
     "metadata": {},
     "output_type": "execute_result"
    }
   ],
   "source": [
    "# Symbolization\n",
    "# Based on practical session 1. Counter doesn't seem that useful but unsure about alternative\n",
    "counts = Counter([item for session in df['product_action'] for item in session])\n",
    "symbol_alpha = {action : idx for idx, action in enumerate(counts, 1)}\n",
    "print(counts, '\\nSymbol alphabet: ', symbol_alpha)\n",
    "\n",
    "# Overwriting the product action column.\n",
    "# Casting as a string (from tuple) is necessary for translating to dict in Oracle function\n",
    "df['session'] = df['product_action'].map(lambda session: tuple([symbol_alpha[action] for action in session]))\n",
    "df = df[['session', 'purchase']]\n",
    "df.head()"
   ]
  },
  {
   "cell_type": "code",
   "execution_count": 10,
   "id": "60f547a1",
   "metadata": {},
   "outputs": [
    {
     "data": {
      "text/html": [
       "<div>\n",
       "<style scoped>\n",
       "    .dataframe tbody tr th:only-of-type {\n",
       "        vertical-align: middle;\n",
       "    }\n",
       "\n",
       "    .dataframe tbody tr th {\n",
       "        vertical-align: top;\n",
       "    }\n",
       "\n",
       "    .dataframe thead th {\n",
       "        text-align: right;\n",
       "    }\n",
       "</style>\n",
       "<table border=\"1\" class=\"dataframe\">\n",
       "  <thead>\n",
       "    <tr style=\"text-align: right;\">\n",
       "      <th></th>\n",
       "      <th>session</th>\n",
       "      <th>purchase</th>\n",
       "    </tr>\n",
       "  </thead>\n",
       "  <tbody>\n",
       "    <tr>\n",
       "      <th>2638</th>\n",
       "      <td>(1, 2, 1, 1, 2, 1, 1, 1, 1, 1, 1, 1, 1)</td>\n",
       "      <td>0</td>\n",
       "    </tr>\n",
       "    <tr>\n",
       "      <th>2639</th>\n",
       "      <td>(1, 1, 1, 1, 1, 4, 3, 1, 1, 1, 2, 1, 1, 1, 1, ...</td>\n",
       "      <td>1</td>\n",
       "    </tr>\n",
       "    <tr>\n",
       "      <th>2640</th>\n",
       "      <td>(1, 1, 1, 1, 2, 1)</td>\n",
       "      <td>0</td>\n",
       "    </tr>\n",
       "    <tr>\n",
       "      <th>2641</th>\n",
       "      <td>(4, 1, 2, 1, 4, 1, 2, 1, 1, 1, 2)</td>\n",
       "      <td>0</td>\n",
       "    </tr>\n",
       "    <tr>\n",
       "      <th>2642</th>\n",
       "      <td>(1, 1, 1, 1, 1, 1, 1, 1, 1, 1, 1, 1)</td>\n",
       "      <td>0</td>\n",
       "    </tr>\n",
       "  </tbody>\n",
       "</table>\n",
       "</div>"
      ],
      "text/plain": [
       "                                                session  purchase\n",
       "2638            (1, 2, 1, 1, 2, 1, 1, 1, 1, 1, 1, 1, 1)         0\n",
       "2639  (1, 1, 1, 1, 1, 4, 3, 1, 1, 1, 2, 1, 1, 1, 1, ...         1\n",
       "2640                                 (1, 1, 1, 1, 2, 1)         0\n",
       "2641                  (4, 1, 2, 1, 4, 1, 2, 1, 1, 1, 2)         0\n",
       "2642               (1, 1, 1, 1, 1, 1, 1, 1, 1, 1, 1, 1)         0"
      ]
     },
     "execution_count": 10,
     "metadata": {},
     "output_type": "execute_result"
    }
   ],
   "source": [
    "# Split set into training and validation set\n",
    "from sklearn.model_selection import train_test_split\n",
    "\n",
    "# No real reason for the selected ratio. In PS they used 70/30. Don't forget to set state.\n",
    "training_set, eval_set = train_test_split(df, test_size=0.2, random_state=123, shuffle=False)\n",
    "eval_set.head()"
   ]
  },
  {
   "cell_type": "code",
   "execution_count": 15,
   "id": "807aedb3",
   "metadata": {},
   "outputs": [
    {
     "name": "stdout",
     "output_type": "stream",
     "text": [
      "Number of clicks:  5 \tPurchase sessions:   116 \tNo purchase sessions:   476 \tTotal:  592\n",
      "Number of clicks:  5 \tPurchase sessions:   503 \tNo purchase sessions:   1679 \tTotal:  2182\n"
     ]
    }
   ],
   "source": [
    "from collections import defaultdict\n",
    "\n",
    "# Return an oracle file for N clicks after add event (e.g. event 0)\n",
    "def make_oracle(dataset, max_clicks):\n",
    "    \n",
    "    \"\"\"\n",
    "    Find the count of each unique session, both for purchase and no purchase sessions\n",
    "    Function creates an oracle based on the clicks post add-to-cart, so filters based on session length\n",
    "    Since we dropped all actions up to and including first add we can start from index 0\n",
    "    \"\"\"\n",
    "    correction = 1\n",
    "    \n",
    "    buy = dataset.session[(dataset['purchase'] == 1) & \\\n",
    "                            (dataset['session'].str.len() >= max_clicks)].value_counts() + correction\n",
    "    nobuy = dataset.session[(dataset['purchase'] == 0) & \\\n",
    "                            (dataset['session'].str.len() >= max_clicks)].value_counts() + correction\n",
    "           \n",
    "    oracle = dict.fromkeys(dataset.session[dataset['session'].str.len() >= max_clicks])\n",
    "\n",
    "    \"\"\"\n",
    "    Are we even calculating precision here? Is the assumption that everything is flagged as a purchase session?\n",
    "    \n",
    "    Correcting all results by 1 means all results are bumped down up 0 to 0.33, which seems substantial\n",
    "    Not correcting means we have a lot of certain no-purchase results, maybe that's good?\n",
    "    Correcting by decimals is an option but that sounds like a silly solution?\n",
    "    \"\"\"\n",
    "    \n",
    "    print(\"Number of clicks: \", max_clicks, \"\\tPurchase sessions:  \", len(buy), \\\n",
    "          \"\\tNo purchase sessions:  \", len(nobuy), \"\\tTotal: \", len(nobuy) + len(buy))\n",
    "    \n",
    "    for key in oracle.keys():\n",
    "        nb, nn = buy.get(key, default = correction), nobuy.get(key, default = correction)\n",
    "        oracle[key] = nb / (nb + nn)\n",
    "    return oracle\n",
    "\n",
    "# As per the assignment, oracles are made for 5, 10 and 15 post add-to-cart clicks\n",
    "ev_oracle5 = make_oracle(eval_set, 5)\n",
    "#ev_oracle10 = make_oracle(eval_set, 10)\n",
    "#ev_oracle15 = make_oracle(eval_set, 15)\n",
    "\n",
    "tr_oracle5 = make_oracle(training_set, 5)"
   ]
  },
  {
   "cell_type": "code",
   "execution_count": 16,
   "id": "063db289",
   "metadata": {},
   "outputs": [
    {
     "name": "stdout",
     "output_type": "stream",
     "text": [
      "(1, 1, 1, 1, 2) \tTraining:  0.17 \tEval:  0.33 \tDiff:  -0.17\n",
      "(1, 1, 1, 1, 1) \tTraining:  0.45 \tEval:  0.38 \tDiff:  0.08\n",
      "(1, 1, 2, 1, 1) \tTraining:  0.14 \tEval:  0.20 \tDiff:  -0.06\n",
      "(1, 1, 2, 1, 1) \tTraining:  0.50 \tEval:  0.20 \tDiff:  0.30\n",
      "(1, 1, 1, 2, 1) \tTraining:  0.40 \tEval:  0.50 \tDiff:  -0.10\n",
      "(1, 1, 2, 1, 2) \tTraining:  0.14 \tEval:  0.25 \tDiff:  -0.11\n",
      "(1, 1, 1, 1, 1) \tTraining:  0.21 \tEval:  0.67 \tDiff:  -0.45\n",
      "(3, 1, 1, 1, 1) \tTraining:  0.67 \tEval:  0.50 \tDiff:  0.17\n",
      "(1, 1, 1, 1, 2) \tTraining:  0.25 \tEval:  0.33 \tDiff:  -0.08\n",
      "(1, 1, 1, 1, 1) \tTraining:  0.30 \tEval:  0.50 \tDiff:  -0.20\n",
      "(1, 1, 1, 1, 2) \tTraining:  0.33 \tEval:  0.25 \tDiff:  0.08\n",
      "(1, 1, 1, 2, 1) \tTraining:  0.20 \tEval:  0.67 \tDiff:  -0.47\n",
      "(2, 1, 1, 2, 1) \tTraining:  0.20 \tEval:  0.33 \tDiff:  -0.13\n",
      "(1, 2, 1, 1, 1) \tTraining:  0.20 \tEval:  0.33 \tDiff:  -0.13\n",
      "(2, 1, 2, 1, 1) \tTraining:  0.33 \tEval:  0.33 \tDiff:  0.00\n",
      "(1, 2, 1, 1, 1) \tTraining:  0.36 \tEval:  0.50 \tDiff:  -0.14\n",
      "(1, 2, 1, 1, 1) \tTraining:  0.25 \tEval:  0.33 \tDiff:  -0.08\n",
      "(1, 1, 1, 1, 1) \tTraining:  0.39 \tEval:  0.38 \tDiff:  0.01\n",
      "(1, 1, 1, 1, 1) \tTraining:  0.38 \tEval:  0.47 \tDiff:  -0.09\n",
      "(4, 1, 4, 1, 4) \tTraining:  0.86 \tEval:  0.67 \tDiff:  0.19\n",
      "(1, 1, 1, 1, 1) \tTraining:  0.44 \tEval:  0.50 \tDiff:  -0.06\n",
      "(1, 1, 2, 1, 1) \tTraining:  0.29 \tEval:  0.20 \tDiff:  0.09\n",
      "(1, 1, 1, 1, 1) \tTraining:  0.52 \tEval:  0.22 \tDiff:  0.30\n",
      "(2, 1, 2, 1, 3) \tTraining:  0.33 \tEval:  0.33 \tDiff:  0.00\n",
      "(1, 2, 1, 2, 1) \tTraining:  0.12 \tEval:  0.25 \tDiff:  -0.12\n",
      "(3, 1, 1, 1, 1) \tTraining:  0.25 \tEval:  0.33 \tDiff:  -0.08\n",
      "(1, 1, 1, 1, 1) \tTraining:  0.43 \tEval:  0.17 \tDiff:  0.26\n",
      "(3, 1, 1, 4, 1) \tTraining:  0.25 \tEval:  0.67 \tDiff:  -0.42\n",
      "(1, 1, 1, 2, 1) \tTraining:  0.25 \tEval:  0.25 \tDiff:  0.00\n",
      "(1, 1, 2, 1, 1) \tTraining:  0.29 \tEval:  0.60 \tDiff:  -0.31\n",
      "(1, 1, 1, 1, 3) \tTraining:  0.67 \tEval:  0.33 \tDiff:  0.33\n",
      "(1, 1, 1, 1, 1) \tTraining:  0.25 \tEval:  0.60 \tDiff:  -0.35\n",
      "(1, 2, 1, 2, 1) \tTraining:  0.25 \tEval:  0.33 \tDiff:  -0.08\n",
      "(1, 1, 1, 1, 1) \tTraining:  0.33 \tEval:  0.67 \tDiff:  -0.33\n",
      "(1, 2, 1, 1, 2) \tTraining:  0.67 \tEval:  0.33 \tDiff:  0.33\n",
      "(4, 1, 4, 1, 1) \tTraining:  0.33 \tEval:  0.33 \tDiff:  0.00\n",
      "(1, 1, 1, 1, 1) \tTraining:  0.33 \tEval:  0.33 \tDiff:  0.00\n",
      "(4, 1, 4, 1, 4) \tTraining:  0.67 \tEval:  0.67 \tDiff:  0.00\n",
      "(1, 1, 2, 1, 2) \tTraining:  0.14 \tEval:  0.33 \tDiff:  -0.19\n",
      "(3, 1, 1, 2, 1) \tTraining:  0.33 \tEval:  0.33 \tDiff:  0.00\n",
      "(1, 1, 2, 1, 1) \tTraining:  0.14 \tEval:  0.33 \tDiff:  -0.19\n",
      "(1, 1, 1, 1, 1) \tTraining:  0.50 \tEval:  0.33 \tDiff:  0.17\n",
      "(3, 1, 1, 1, 1) \tTraining:  0.50 \tEval:  0.33 \tDiff:  0.17\n",
      "(2, 1, 1, 1, 1) \tTraining:  0.33 \tEval:  0.25 \tDiff:  0.08\n",
      "(1, 1, 2, 1, 1) \tTraining:  0.25 \tEval:  0.33 \tDiff:  -0.08\n",
      "(1, 1, 1, 2, 3) \tTraining:  0.33 \tEval:  0.33 \tDiff:  0.00\n",
      "(3, 1, 1, 1, 1) \tTraining:  0.33 \tEval:  0.33 \tDiff:  0.00\n",
      "(1, 1, 1, 1, 1) \tTraining:  0.33 \tEval:  0.33 \tDiff:  0.00\n",
      "(1, 2, 1, 1, 2) \tTraining:  0.17 \tEval:  0.33 \tDiff:  -0.17\n",
      "(1, 1, 1, 1, 1) \tTraining:  0.38 \tEval:  0.50 \tDiff:  -0.12\n",
      "(1, 1, 1, 1, 1) \tTraining:  0.67 \tEval:  0.50 \tDiff:  0.17\n",
      "(1, 1, 1, 1, 1) \tTraining:  0.33 \tEval:  0.25 \tDiff:  0.08\n",
      "(1, 2, 2, 1, 2) \tTraining:  0.25 \tEval:  0.33 \tDiff:  -0.08\n",
      "(1, 2, 1, 1, 4) \tTraining:  0.33 \tEval:  0.33 \tDiff:  0.00\n",
      "(1, 2, 1, 1, 2) \tTraining:  0.33 \tEval:  0.33 \tDiff:  0.00\n",
      "(2, 1, 2, 1, 2) \tTraining:  0.33 \tEval:  0.33 \tDiff:  0.00\n",
      "(2, 1, 2, 1, 2) \tTraining:  0.33 \tEval:  0.33 \tDiff:  0.00\n",
      "(1, 1, 1, 1, 1) \tTraining:  0.50 \tEval:  0.33 \tDiff:  0.17\n",
      "(3, 1, 2, 1, 1) \tTraining:  0.33 \tEval:  0.33 \tDiff:  0.00\n",
      "(1, 2, 2, 1, 1) \tTraining:  0.33 \tEval:  0.33 \tDiff:  0.00\n",
      "(4, 1, 1, 1, 1) \tTraining:  0.33 \tEval:  0.33 \tDiff:  0.00\n",
      "(1, 1, 1, 1, 1) \tTraining:  0.50 \tEval:  0.67 \tDiff:  -0.17\n",
      "(4, 1, 4, 1, 4) \tTraining:  0.25 \tEval:  0.33 \tDiff:  -0.08\n",
      "(2, 1, 1, 2, 2) \tTraining:  0.33 \tEval:  0.33 \tDiff:  0.00\n",
      "(1, 1, 1, 2, 1) \tTraining:  0.67 \tEval:  0.67 \tDiff:  0.00\n",
      "(1, 1, 3, 1, 1) \tTraining:  0.50 \tEval:  0.67 \tDiff:  -0.17\n",
      "(1, 2, 1, 2, 2) \tTraining:  0.17 \tEval:  0.33 \tDiff:  -0.17\n",
      "(4, 1, 1, 1, 1) \tTraining:  0.33 \tEval:  0.33 \tDiff:  0.00\n",
      "(2, 1, 2, 1, 1) \tTraining:  0.14 \tEval:  0.33 \tDiff:  -0.19\n",
      "(1, 1, 1, 1, 1) \tTraining:  0.40 \tEval:  0.67 \tDiff:  -0.27\n",
      "(1, 1, 2, 3, 1) \tTraining:  0.75 \tEval:  0.67 \tDiff:  0.08\n",
      "(1, 1, 1, 1, 1) \tTraining:  0.25 \tEval:  0.67 \tDiff:  -0.42\n",
      "(1, 2, 1, 1, 1) \tTraining:  0.33 \tEval:  0.67 \tDiff:  -0.33\n",
      "(4, 1, 4, 4, 4) \tTraining:  0.33 \tEval:  0.33 \tDiff:  0.00\n",
      "(1, 1, 1, 1, 1) \tTraining:  0.17 \tEval:  0.33 \tDiff:  -0.17\n",
      "(1, 2, 1, 1, 2) \tTraining:  0.25 \tEval:  0.33 \tDiff:  -0.08\n"
     ]
    }
   ],
   "source": [
    "for key, value in ev_oracle5.items():\n",
    "    if key in tr_oracle5:\n",
    "        print(key[0:5], \"\\tTraining: \", \"{:.2f}\".format(round(tr_oracle5[key], 2)), \\\n",
    "              \"\\tEval: \", \"{:.2f}\".format(round(value, 2)), \\\n",
    "              \"\\tDiff: \", \"{:.2f}\".format(round(tr_oracle5[key] - value, 2)))"
   ]
  },
  {
   "cell_type": "code",
   "execution_count": null,
   "id": "3d87c6ee",
   "metadata": {},
   "outputs": [],
   "source": []
  }
 ],
 "metadata": {
  "kernelspec": {
   "display_name": "Python 3",
   "language": "python",
   "name": "python3"
  },
  "language_info": {
   "codemirror_mode": {
    "name": "ipython",
    "version": 3
   },
   "file_extension": ".py",
   "mimetype": "text/x-python",
   "name": "python",
   "nbconvert_exporter": "python",
   "pygments_lexer": "ipython3",
   "version": "3.8.8"
  }
 },
 "nbformat": 4,
 "nbformat_minor": 5
}

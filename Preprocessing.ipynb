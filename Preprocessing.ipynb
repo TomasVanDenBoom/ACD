{
 "cells": [
  {
   "cell_type": "code",
   "execution_count": null,
   "id": "96c59926",
   "metadata": {},
   "outputs": [],
   "source": [
    "import os\n",
    "import pandas as pd\n",
    "import numpy as np\n",
    "from collections import Counter"
   ]
  },
  {
   "cell_type": "code",
   "execution_count": null,
   "id": "9522cd4c",
   "metadata": {},
   "outputs": [],
   "source": [
    "# Load dataset\n",
    "dfpath = os.path.join(os.getcwd(), \"data\", \"training_data.csv\")\n",
    "print(\"Loading file from: {}\".format(dfpath))\n",
    "\n",
    "# Only store first 999999 rows for testing, comparable to data subset\n",
    "df = pd.read_csv(dfpath, header=0, nrows=999999)\n",
    "df.head()"
   ]
  },
  {
   "cell_type": "code",
   "execution_count": null,
   "id": "0f03314d",
   "metadata": {},
   "outputs": [],
   "source": [
    "# Sessionization\n",
    "# Taken from practical session file: Assumed this is about as efficient as it gets\n",
    "df['product_action'] = df['product_action'].fillna('view')\n",
    "df = df.groupby('session_id_hash')['product_action'].agg(tuple).reset_index()\n",
    "del df['session_id_hash']\n",
    "df.shape"
   ]
  },
  {
   "cell_type": "code",
   "execution_count": null,
   "id": "3de8445a",
   "metadata": {},
   "outputs": [],
   "source": [
    "# Drop all sessions not containing any 'add' events\n",
    "df.drop(df[df.product_action.map(lambda x: 'add' not in x)].index, inplace=True)\n",
    "df.shape"
   ]
  },
  {
   "cell_type": "code",
   "execution_count": null,
   "id": "5e70c102",
   "metadata": {},
   "outputs": [],
   "source": [
    "# Drop all sessions with a length shorter than 5 or greater than 155\n",
    "df.drop(df[~df.product_action.map(len).between(5, 155)].index, inplace=True)\n",
    "df = df.reset_index()\n",
    "del df['index']\n",
    "df.shape"
   ]
  },
  {
   "cell_type": "code",
   "execution_count": null,
   "id": "344328ad",
   "metadata": {},
   "outputs": [],
   "source": [
    "# Slice the head of the sessions until after the first add event\n",
    "df['product_action'] = df['product_action'].map(lambda x: x[x.index('add') + 1:-1])\n",
    "df.head()"
   ]
  },
  {
   "cell_type": "code",
   "execution_count": null,
   "id": "77479da2",
   "metadata": {},
   "outputs": [],
   "source": [
    "# Class labeling\n",
    "# From practical session.\n",
    "df['purchase'] = np.where(df.product_action.map(set(['purchase']).issubset), 1, 0)"
   ]
  },
  {
   "cell_type": "code",
   "execution_count": null,
   "id": "cde6504b",
   "metadata": {},
   "outputs": [],
   "source": [
    "# Cutting down purchase sessions\n",
    "# Based on Carlijn Jurriaan's solution on Canvas discussion board\n",
    "df['product_action'] = df['product_action'].map(lambda x: x[0:x.index('purchase')] if 'purchase' in x else x)\n",
    "\n",
    "# Clear any empty lists from the database. Not sure if this is strictly necessary, given other filters.\n",
    "df = df[df['product_action'].str.len() > 0]\n",
    "df.head()"
   ]
  },
  {
   "cell_type": "code",
   "execution_count": null,
   "id": "95be0a60",
   "metadata": {},
   "outputs": [],
   "source": [
    "# Symbolization\n",
    "# Based on practical session 1. Counter doesn't seem that useful but unsure about alternative\n",
    "counts = Counter([item for session in df['product_action'] for item in session])\n",
    "symbol_alpha = {action : idx for idx, action in enumerate(counts, 1)}\n",
    "print(counts, '\\nSymbol alphabet: ', symbol_alpha)\n",
    "\n",
    "# Overwriting the product action column. Maybe numpy arrays would be faster?\n",
    "df['session'] = df['product_action'].map(lambda session: tuple([symbol_alpha[action] for action in session]))\n",
    "df = df[['session', 'purchase']]\n",
    "df.head()"
   ]
  },
  {
   "cell_type": "code",
   "execution_count": null,
   "id": "60f547a1",
   "metadata": {},
   "outputs": [],
   "source": [
    "# Split set into training and validation set\n",
    "from sklearn.model_selection import train_test_split\n",
    "\n",
    "# No real reason for the selected ratio. In PS they used 70/30. Don't forget to set state.\n",
    "training_set, eval_set = train_test_split(df, test_size=0.2, random_state=52)\n",
    "eval_set.head()"
   ]
  },
  {
   "cell_type": "code",
   "execution_count": null,
   "id": "807aedb3",
   "metadata": {},
   "outputs": [],
   "source": [
    "# Return an oracle file for N clicks after add event (e.g. event 0)\n",
    "def make_oracle(max_clicks):\n",
    "    \n",
    "    \"\"\"\n",
    "    Find the count of each unique session, both for purchase and no purchase sessions\n",
    "    Function creates an oracle based on the clicks post add-to-cart, so filters based on session length\n",
    "    Since we dropped all actions up to and including first add we can start from index 0\n",
    "    \"\"\" \n",
    "    \n",
    "    n_buy = eval_set.session[(eval_set['purchase'] == 1) & (eval_set['session'].str.len() >= max_clicks)].value_counts()\n",
    "    n_nobuy = eval_set.session[(eval_set['purchase'] == 0) & (eval_set['session'].str.len() >= max_clicks)].value_counts()\n",
    "    \n",
    "    oracle = {}\n",
    "\n",
    "    \"\"\"\n",
    "    Are we even calculating precision here? Is the assumption that everything is flagged as a purchase session?\n",
    "    Don't even get me started on how you're supposed to calculate F1 for this thing. No earthly idea.\n",
    "    \"\"\"\n",
    "    \n",
    "    for key in n_all.keys():\n",
    "        precision = n_buy.get(key, default=0) / (n_buy.get(key, default = 0) + n_nobuy.get(key, default = 0))\n",
    "        oracle[key] = precision  \n",
    "    return oracle\n",
    "\n",
    "# As per the assignment, oracles are made for 5, 10 and 15 post add-to-cart clicks\n",
    "oracle5 = make_oracle(5)\n",
    "oracle10 = make_oracle(10)\n",
    "oracle15 = make_oracle(15)"
   ]
  },
  {
   "cell_type": "code",
   "execution_count": null,
   "id": "063db289",
   "metadata": {},
   "outputs": [],
   "source": [
    "# Subset all nonzero results (i.e. that can potentially lead to a purchase)\n",
    "o5_nonzero = list([(key, value) for key, value in oracle5.items() if value > 0.0])\n",
    "print(oracle5)"
   ]
  },
  {
   "cell_type": "code",
   "execution_count": null,
   "id": "f74755ec",
   "metadata": {},
   "outputs": [],
   "source": []
  }
 ],
 "metadata": {
  "kernelspec": {
   "display_name": "Python 3",
   "language": "python",
   "name": "python3"
  },
  "language_info": {
   "codemirror_mode": {
    "name": "ipython",
    "version": 3
   },
   "file_extension": ".py",
   "mimetype": "text/x-python",
   "name": "python",
   "nbconvert_exporter": "python",
   "pygments_lexer": "ipython3",
   "version": "3.8.8"
  }
 },
 "nbformat": 4,
 "nbformat_minor": 5
}

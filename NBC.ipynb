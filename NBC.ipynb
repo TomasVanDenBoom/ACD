{
 "cells": [
  {
   "cell_type": "code",
   "execution_count": 12,
   "id": "6c77e65d",
   "metadata": {},
   "outputs": [],
   "source": [
    "import os\n",
    "import pandas as pd\n",
    "import numpy as np\n"
   ]
  },
  {
   "cell_type": "code",
   "execution_count": 13,
   "id": "59f11753",
   "metadata": {},
   "outputs": [
    {
     "name": "stdout",
     "output_type": "stream",
     "text": [
      "Loading file from: C:\\Programming\\CustomerAnalysis\\GroupAssignment\\data\\filtered_long.csv\n"
     ]
    },
    {
     "data": {
      "text/html": [
       "<div>\n",
       "<style scoped>\n",
       "    .dataframe tbody tr th:only-of-type {\n",
       "        vertical-align: middle;\n",
       "    }\n",
       "\n",
       "    .dataframe tbody tr th {\n",
       "        vertical-align: top;\n",
       "    }\n",
       "\n",
       "    .dataframe thead th {\n",
       "        text-align: right;\n",
       "    }\n",
       "</style>\n",
       "<table border=\"1\" class=\"dataframe\">\n",
       "  <thead>\n",
       "    <tr style=\"text-align: right;\">\n",
       "      <th></th>\n",
       "      <th>Unnamed: 0</th>\n",
       "      <th>session</th>\n",
       "      <th>purchase</th>\n",
       "      <th>len</th>\n",
       "      <th>add</th>\n",
       "    </tr>\n",
       "  </thead>\n",
       "  <tbody>\n",
       "    <tr>\n",
       "      <th>0</th>\n",
       "      <td>0</td>\n",
       "      <td>[1,  2,  3,  1,  1,  1,  1,  1,  1,  1,  2,  1...</td>\n",
       "      <td>0</td>\n",
       "      <td>18</td>\n",
       "      <td>2</td>\n",
       "    </tr>\n",
       "    <tr>\n",
       "      <th>1</th>\n",
       "      <td>1</td>\n",
       "      <td>[1,  1,  1,  2,  1,  1,  2,  1,  1,  1,  1,  2...</td>\n",
       "      <td>0</td>\n",
       "      <td>139</td>\n",
       "      <td>18</td>\n",
       "    </tr>\n",
       "    <tr>\n",
       "      <th>2</th>\n",
       "      <td>2</td>\n",
       "      <td>[1,  1,  1,  2,  1,  1,  1,  1,  1,  1,  2,  1...</td>\n",
       "      <td>0</td>\n",
       "      <td>41</td>\n",
       "      <td>16</td>\n",
       "    </tr>\n",
       "    <tr>\n",
       "      <th>3</th>\n",
       "      <td>3</td>\n",
       "      <td>[1,  2,  3,  1,  1,  2,  3,  1,  1,  1,  1,  1...</td>\n",
       "      <td>0</td>\n",
       "      <td>16</td>\n",
       "      <td>2</td>\n",
       "    </tr>\n",
       "    <tr>\n",
       "      <th>4</th>\n",
       "      <td>4</td>\n",
       "      <td>[1,  1,  1,  1,  2,  3,  4,  1,  2,  1,  1,  1...</td>\n",
       "      <td>1</td>\n",
       "      <td>29</td>\n",
       "      <td>5</td>\n",
       "    </tr>\n",
       "  </tbody>\n",
       "</table>\n",
       "</div>"
      ],
      "text/plain": [
       "   Unnamed: 0                                            session  purchase  \\\n",
       "0           0  [1,  2,  3,  1,  1,  1,  1,  1,  1,  1,  2,  1...         0   \n",
       "1           1  [1,  1,  1,  2,  1,  1,  2,  1,  1,  1,  1,  2...         0   \n",
       "2           2  [1,  1,  1,  2,  1,  1,  1,  1,  1,  1,  2,  1...         0   \n",
       "3           3  [1,  2,  3,  1,  1,  2,  3,  1,  1,  1,  1,  1...         0   \n",
       "4           4  [1,  1,  1,  1,  2,  3,  4,  1,  2,  1,  1,  1...         1   \n",
       "\n",
       "   len  add  \n",
       "0   18    2  \n",
       "1  139   18  \n",
       "2   41   16  \n",
       "3   16    2  \n",
       "4   29    5  "
      ]
     },
     "execution_count": 13,
     "metadata": {},
     "output_type": "execute_result"
    }
   ],
   "source": [
    "# Load dataset\n",
    "dfpath = os.path.join(os.getcwd(), \"data\", \"filtered_long.csv\")\n",
    "print(\"Loading file from: {}\".format(dfpath))\n",
    "\n",
    "df = pd.read_csv(dfpath, header=0)\n",
    "df.session = df.session.map(lambda x: x.strip(\"()\").split(','))\n",
    "df.head()"
   ]
  },
  {
   "cell_type": "code",
   "execution_count": 14,
   "id": "d04d8d36",
   "metadata": {},
   "outputs": [
    {
     "data": {
      "text/html": [
       "<div>\n",
       "<style scoped>\n",
       "    .dataframe tbody tr th:only-of-type {\n",
       "        vertical-align: middle;\n",
       "    }\n",
       "\n",
       "    .dataframe tbody tr th {\n",
       "        vertical-align: top;\n",
       "    }\n",
       "\n",
       "    .dataframe thead th {\n",
       "        text-align: right;\n",
       "    }\n",
       "</style>\n",
       "<table border=\"1\" class=\"dataframe\">\n",
       "  <thead>\n",
       "    <tr style=\"text-align: right;\">\n",
       "      <th></th>\n",
       "      <th>Unnamed: 0</th>\n",
       "      <th>session</th>\n",
       "      <th>purchase</th>\n",
       "      <th>len</th>\n",
       "      <th>add</th>\n",
       "    </tr>\n",
       "  </thead>\n",
       "  <tbody>\n",
       "    <tr>\n",
       "      <th>129080</th>\n",
       "      <td>129080</td>\n",
       "      <td>[1,  1,  2,  1,  1,  2,  3,  1,  1,  1,  1,  1...</td>\n",
       "      <td>0</td>\n",
       "      <td>17</td>\n",
       "      <td>6</td>\n",
       "    </tr>\n",
       "    <tr>\n",
       "      <th>129081</th>\n",
       "      <td>129081</td>\n",
       "      <td>[1,  2,  1,  2,  2,  1,  1,  2,  2,  1,  1,  1...</td>\n",
       "      <td>0</td>\n",
       "      <td>16</td>\n",
       "      <td>14</td>\n",
       "    </tr>\n",
       "    <tr>\n",
       "      <th>129082</th>\n",
       "      <td>129082</td>\n",
       "      <td>[1,  2,  1,  2,  1,  1,  2,  1,  2,  1,  2,  1...</td>\n",
       "      <td>0</td>\n",
       "      <td>38</td>\n",
       "      <td>19</td>\n",
       "    </tr>\n",
       "    <tr>\n",
       "      <th>129083</th>\n",
       "      <td>129083</td>\n",
       "      <td>[1,  1,  1,  2,  1,  3,  1,  1,  1,  1,  1,  1...</td>\n",
       "      <td>1</td>\n",
       "      <td>13</td>\n",
       "      <td>5</td>\n",
       "    </tr>\n",
       "    <tr>\n",
       "      <th>129084</th>\n",
       "      <td>129084</td>\n",
       "      <td>[1,  1,  2,  3,  1,  1,  2,  3,  1,  1,  2,  1...</td>\n",
       "      <td>1</td>\n",
       "      <td>20</td>\n",
       "      <td>3</td>\n",
       "    </tr>\n",
       "  </tbody>\n",
       "</table>\n",
       "</div>"
      ],
      "text/plain": [
       "        Unnamed: 0                                            session  \\\n",
       "129080      129080  [1,  1,  2,  1,  1,  2,  3,  1,  1,  1,  1,  1...   \n",
       "129081      129081  [1,  2,  1,  2,  2,  1,  1,  2,  2,  1,  1,  1...   \n",
       "129082      129082  [1,  2,  1,  2,  1,  1,  2,  1,  2,  1,  2,  1...   \n",
       "129083      129083  [1,  1,  1,  2,  1,  3,  1,  1,  1,  1,  1,  1...   \n",
       "129084      129084  [1,  1,  2,  3,  1,  1,  2,  3,  1,  1,  2,  1...   \n",
       "\n",
       "        purchase  len  add  \n",
       "129080         0   17    6  \n",
       "129081         0   16   14  \n",
       "129082         0   38   19  \n",
       "129083         1   13    5  \n",
       "129084         1   20    3  "
      ]
     },
     "execution_count": 14,
     "metadata": {},
     "output_type": "execute_result"
    }
   ],
   "source": [
    "# Split set into training and validation set\n",
    "from sklearn.model_selection import train_test_split\n",
    "\n",
    "# No real reason for the selected ratio. In PS they used 70/30. Don't forget to set state.\n",
    "training_set, eval_set = train_test_split(df, test_size=0.2, random_state=123, shuffle=False)\n",
    "eval_set.head()"
   ]
  },
  {
   "cell_type": "code",
   "execution_count": 15,
   "id": "f2d9bc02",
   "metadata": {},
   "outputs": [],
   "source": [
    "import numpy as np\n",
    "\n",
    "def ngram_featurizer(session, n):\n",
    "    \n",
    "    \"\"\"takes in a list and an integer defining the size of ngrams.\n",
    "     Returns the ngrams of desired size in the input string\"\"\"\n",
    "    session = ['#']*(n-1) + session + ['+']*(n-1)\n",
    "    ngrams = [tuple(session[i:i+n]) for i in range(len(session)-n+1)]\n",
    "    \n",
    "    return ngrams\n",
    "    \n",
    "\n",
    "def encode_sessions(sessions, n, mapping=None):\n",
    "    \n",
    "    \"\"\"\n",
    "    Takes in a list of lists, an integer indicating the character ngrams' size,\n",
    "    and a dictionary mapping ngrams to numerical indices. If no dictionary is passed,\n",
    "    one is created inside the function.\n",
    "    The function outputs a 2d NumPy array with as many rows as there are strings in \n",
    "    the input list, and the mapping from ngrams to indices, representing the columns \n",
    "    of the NumPy array.\n",
    "    \"\"\"\n",
    "    \n",
    "    if not mapping:\n",
    "        all_ngrams = set()\n",
    "        for session in sessions:\n",
    "            all_ngrams = all_ngrams.union(set(ngram_featurizer(session, n)))\n",
    "    \n",
    "        mapping = {ngram: i for i, ngram in enumerate(all_ngrams)}\n",
    "    \n",
    "    X = np.zeros((len(sessions), len(mapping)))\n",
    "    for i, session in enumerate(sessions):\n",
    "        for ngram in ngram_featurizer(session, n):\n",
    "            try:\n",
    "                X[i, mapping[ngram]] += 1\n",
    "            except KeyError:\n",
    "                pass\n",
    "    \n",
    "    return X, mapping"
   ]
  },
  {
   "cell_type": "code",
   "execution_count": 43,
   "id": "c8bdcc01",
   "metadata": {},
   "outputs": [
    {
     "name": "stderr",
     "output_type": "stream",
     "text": [
      "C:\\Programming\\Anavonda\\lib\\site-packages\\pandas\\core\\generic.py:5494: SettingWithCopyWarning: \n",
      "A value is trying to be set on a copy of a slice from a DataFrame.\n",
      "Try using .loc[row_indexer,col_indexer] = value instead\n",
      "\n",
      "See the caveats in the documentation: https://pandas.pydata.org/pandas-docs/stable/user_guide/indexing.html#returning-a-view-versus-a-copy\n",
      "  self[name] = value\n",
      "C:\\Programming\\Anavonda\\lib\\site-packages\\pandas\\core\\generic.py:5494: SettingWithCopyWarning: \n",
      "A value is trying to be set on a copy of a slice from a DataFrame.\n",
      "Try using .loc[row_indexer,col_indexer] = value instead\n",
      "\n",
      "See the caveats in the documentation: https://pandas.pydata.org/pandas-docs/stable/user_guide/indexing.html#returning-a-view-versus-a-copy\n",
      "  self[name] = value\n"
     ]
    }
   ],
   "source": [
    "def subset(data, clicks):\n",
    "    data = data[(data['len'] - data['add']) > clicks]\n",
    "    data.session = data.apply(lambda x: x.session[:(x['add'] + clicks + 1)], axis=1)\n",
    "    return data\n",
    "\n",
    "train = subset(training_set, 10)\n",
    "test = subset(eval_set, 10)"
   ]
  },
  {
   "cell_type": "code",
   "execution_count": 36,
   "id": "5f412dc5",
   "metadata": {},
   "outputs": [],
   "source": [
    "Xtrain, mapping = encode_sessions(train.session, 5)\n",
    "Xtest, _ = encode_sessions(test.session, 5, mapping)"
   ]
  },
  {
   "cell_type": "code",
   "execution_count": 39,
   "id": "ebf70cca",
   "metadata": {},
   "outputs": [],
   "source": [
    "# fit NB classifier (Complement)\n",
    "from sklearn.naive_bayes import ComplementNB\n",
    "\n",
    "NB = ComplementNB(alpha=1, fit_prior=True)\n",
    "NB.fit(Xtrain, train.purchase)\n",
    "bayes_predictions = NB.predict(Xtest)"
   ]
  },
  {
   "cell_type": "code",
   "execution_count": 37,
   "id": "f60d8790",
   "metadata": {},
   "outputs": [],
   "source": [
    "# fit NB classifier\n",
    "from sklearn.naive_bayes import MultinomialNB\n",
    "\n",
    "NB = MultinomialNB(alpha=1, fit_prior=True)\n",
    "NB.fit(Xtrain,train.purchase)\n",
    "bayes_predictions = NB.predict(Xtest)"
   ]
  },
  {
   "cell_type": "code",
   "execution_count": 19,
   "id": "84366f64",
   "metadata": {},
   "outputs": [],
   "source": [
    "from sklearn import metrics\n",
    "\n",
    "#acc = metrics.accuracy_score(test.purchase.to_list(), bayes_predictions)\n",
    "#acc"
   ]
  },
  {
   "cell_type": "code",
   "execution_count": 40,
   "id": "f4446930",
   "metadata": {},
   "outputs": [
    {
     "data": {
      "text/plain": [
       "0.45007812106244643"
      ]
     },
     "execution_count": 40,
     "metadata": {},
     "output_type": "execute_result"
    }
   ],
   "source": [
    "f1 = metrics.f1_score(test.purchase.to_list(), bayes_predictions)\n",
    "f1"
   ]
  },
  {
   "cell_type": "code",
   "execution_count": null,
   "id": "c83e16db",
   "metadata": {},
   "outputs": [],
   "source": [
    "majority = 1 - np.mean(test.purchase.to_list())\n",
    "majority"
   ]
  },
  {
   "cell_type": "code",
   "execution_count": 34,
   "id": "599eca32",
   "metadata": {},
   "outputs": [
    {
     "name": "stdout",
     "output_type": "stream",
     "text": [
      "[[0. 0. 0. ... 0. 0. 0.]\n",
      " [0. 0. 0. ... 0. 0. 0.]\n",
      " [0. 0. 0. ... 0. 0. 0.]\n",
      " ...\n",
      " [0. 0. 0. ... 0. 0. 0.]\n",
      " [0. 0. 0. ... 0. 0. 0.]\n",
      " [0. 0. 0. ... 0. 0. 0.]]\n"
     ]
    }
   ],
   "source": [
    "print(Xtest)"
   ]
  },
  {
   "cell_type": "code",
   "execution_count": 47,
   "id": "456b5b52",
   "metadata": {},
   "outputs": [
    {
     "name": "stdout",
     "output_type": "stream",
     "text": [
      "[0.0, 0.6556666639073533, 0.2619968047151147, 0.047726463746761254, 0.034610067630770756]\n",
      "[0.0, 0.615635145837047, 0.31767958222895, 0.04607433729693714, 0.020610934637065783]\n"
     ]
    }
   ],
   "source": [
    "import math\n",
    "\n",
    "# World's shittiest Markov chain\n",
    "\n",
    "def transmat(sessions):\n",
    "    n = 5\n",
    "    M = [[0]*n for _ in range(n)]\n",
    "    \n",
    "    for session in sessions:\n",
    "        for (i, j) in zip(session, session[1:]):\n",
    "            M[int(i)][int(j)] += 1\n",
    "            \n",
    "    for row in M:\n",
    "        s = sum(row)\n",
    "        if s > 0:\n",
    "            row[:] = [f/s for f in row]\n",
    "\n",
    "    return M\n",
    "\n",
    "buy_matrix = transmat(train.session[train['purchase'] == 1])\n",
    "ws_matrix  = transmat(train.session[train['purchase'] == 0])\n",
    "\n",
    "preds = []\n",
    "for session in test.session:\n",
    "    buy_score = 0\n",
    "    ws_score  = 0\n",
    "    for i, w in enumerate(session, start = 1):\n",
    "        buy_score += buy_matrix[int(session[i-1])][int(w)]\n",
    "        ws_score  += ws_matrix[int(session[i-1])][int(w)]\n",
    "    preds.append([1 if buy_score >= ws_score else 0])\n",
    "\n",
    "f1 = metrics.f1_score(test.purchase.to_list(), preds)"
   ]
  },
  {
   "cell_type": "code",
   "execution_count": 45,
   "id": "92ffe2ca",
   "metadata": {},
   "outputs": [
    {
     "ename": "NameError",
     "evalue": "name 'M' is not defined",
     "output_type": "error",
     "traceback": [
      "\u001b[1;31m---------------------------------------------------------------------------\u001b[0m",
      "\u001b[1;31mNameError\u001b[0m                                 Traceback (most recent call last)",
      "\u001b[1;32m<ipython-input-45-c9f77ca0a50d>\u001b[0m in \u001b[0;36m<module>\u001b[1;34m\u001b[0m\n\u001b[1;32m----> 1\u001b[1;33m \u001b[0mprint\u001b[0m\u001b[1;33m(\u001b[0m\u001b[0mM\u001b[0m\u001b[1;33m)\u001b[0m\u001b[1;33m\u001b[0m\u001b[1;33m\u001b[0m\u001b[0m\n\u001b[0m",
      "\u001b[1;31mNameError\u001b[0m: name 'M' is not defined"
     ]
    }
   ],
   "source": [
    "print(M)"
   ]
  },
  {
   "cell_type": "code",
   "execution_count": null,
   "id": "512ca927",
   "metadata": {},
   "outputs": [],
   "source": []
  }
 ],
 "metadata": {
  "kernelspec": {
   "display_name": "Python 3",
   "language": "python",
   "name": "python3"
  },
  "language_info": {
   "codemirror_mode": {
    "name": "ipython",
    "version": 3
   },
   "file_extension": ".py",
   "mimetype": "text/x-python",
   "name": "python",
   "nbconvert_exporter": "python",
   "pygments_lexer": "ipython3",
   "version": "3.8.8"
  }
 },
 "nbformat": 4,
 "nbformat_minor": 5
}

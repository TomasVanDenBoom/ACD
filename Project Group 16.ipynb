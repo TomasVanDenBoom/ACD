{
 "cells": [
  {
   "cell_type": "markdown",
   "id": "787901d2",
   "metadata": {},
   "source": [
    "# Preprocessing"
   ]
  },
  {
   "cell_type": "code",
   "execution_count": null,
   "id": "6b0d8f85",
   "metadata": {},
   "outputs": [],
   "source": [
    "# Link below contains information about building an environment from a .YML file\n",
    "# Make sure to activate the environment before opening the notebook\n",
    "# https://shandou.medium.com/export-and-create-conda-environment-with-yml-5de619fe5a2"
   ]
  },
  {
   "cell_type": "code",
   "execution_count": 1,
   "id": "5d264af9",
   "metadata": {},
   "outputs": [],
   "source": [
    "import numpy as np\n",
    "import pandas as pd\n",
    "import seaborn as sns\n",
    "import warnings\n",
    "\n",
    "warnings.filterwarnings(\"ignore\")"
   ]
  },
  {
   "cell_type": "code",
   "execution_count": 2,
   "id": "e604221f",
   "metadata": {
    "scrolled": false
   },
   "outputs": [],
   "source": [
    "import os\n",
    "\n",
    "def readFile(wd, filename):\n",
    "    try:    \n",
    "        path = os.path.join(wd, \"data\", filename)\n",
    "        file = pd.read_csv(path)\n",
    "    except FileNotFoundError:\n",
    "        print(\"Could not read file - Please check filepath\")\n",
    "        raise\n",
    "    return file\n",
    "\n",
    "wd = os.getcwd()\n",
    "train = readFile(wd, \"training_data.csv\")\n",
    "test = readFile(wd, \"eval_data.csv\")"
   ]
  },
  {
   "cell_type": "markdown",
   "id": "efb8b38a",
   "metadata": {
    "heading_collapsed": true
   },
   "source": [
    "## Pre-processing\n",
    "\n",
    "pre-process the sessions (you can execute these tasks in the order you prefer, but make sure to specify which task is being solved in which block of code):\n",
    "1. sessionise <font color='red'>(1pt)</font>\n",
    "1. select sessions with at least one add-to-cart <font color='red'>(1pt)</font>\n",
    "1. add class labels: treat purchase as the positive class <font color='red'>(1pt)</font>\n",
    "1. cut purchase sessions to the last event before the first purchase <font color='red'>(1pt)</font>\n",
    "1. remove sessions shorter than 5 and longer than 155 clicks <font color='red'>(1pt)</font>\n",
    "1. symbolise actions <font color='red'>(1pt)</font>\n"
   ]
  },
  {
   "cell_type": "code",
   "execution_count": 3,
   "id": "08a869c2",
   "metadata": {
    "hidden": true,
    "scrolled": true
   },
   "outputs": [],
   "source": [
    "# Sessionise:\n",
    "# derive sessions from action by action dataset\n",
    "# merge all the actions by session_id\n",
    "\n",
    "def sessionize(df):\n",
    "    df['product_action'] = df['product_action'].fillna('view')\n",
    "    df = df.groupby('session_id_hash')['product_action'].agg(list).reset_index()\n",
    "    return df\n",
    "\n",
    "train = sessionize(train)\n",
    "test = sessionize(test)"
   ]
  },
  {
   "cell_type": "code",
   "execution_count": 4,
   "id": "c4fa81e7",
   "metadata": {
    "hidden": true,
    "scrolled": false
   },
   "outputs": [],
   "source": [
    "##  Label purchase sessions\n",
    "\n",
    "def labelSet(df):\n",
    "    df['purchase'] = np.where(df.product_action.map(set(['purchase']).issubset), 1, 0)\n",
    "    return df\n",
    "\n",
    "train = labelSet(train)\n",
    "test = labelSet(test)"
   ]
  },
  {
   "cell_type": "code",
   "execution_count": 5,
   "id": "aaeb105d",
   "metadata": {
    "hidden": true,
    "scrolled": true
   },
   "outputs": [],
   "source": [
    "### Cut actions before purchase if there is one\n",
    "### keep the full sesssion if there is not\n",
    "\n",
    "def sliceSessions(df):\n",
    "    df['product_action'] = df['product_action'].map(lambda x: x[0:x.index('purchase')] if 'purchase' in x else x)\n",
    "\n",
    "    ## select sessions with at least one add-to-cart\n",
    "    df = df[df.product_action.map(lambda x: \"add\" in x)]\n",
    "\n",
    "    ### Filtered out outliers which > 155 or < 5.    \n",
    "\n",
    "    df[\"len\"] = df[\"product_action\"].map(len)\n",
    "\n",
    "    # removing very short and very long sessions\n",
    "    df.drop(df[df.len < 5].index, inplace=True)\n",
    "    df.drop(df[df.len > 155].index, inplace=True)\n",
    "    \n",
    "    return df\n",
    "\n",
    "train = sliceSessions(train)\n",
    "test = sliceSessions(test)"
   ]
  },
  {
   "cell_type": "code",
   "execution_count": 6,
   "id": "feafddc2",
   "metadata": {
    "hidden": true
   },
   "outputs": [
    {
     "name": "stdout",
     "output_type": "stream",
     "text": [
      "0\n",
      "0\n"
     ]
    }
   ],
   "source": [
    "## Sanity check: the output should be True\n",
    "def checkFaultySessions(df):\n",
    "    print(df[df.product_action.map(lambda x: \"add\" not in x)].shape[0])\n",
    "    \n",
    "checkFaultySessions(train)\n",
    "checkFaultySessions(test)"
   ]
  },
  {
   "cell_type": "code",
   "execution_count": 7,
   "id": "60ac4d6b",
   "metadata": {
    "hidden": true
   },
   "outputs": [
    {
     "name": "stdout",
     "output_type": "stream",
     "text": [
      "Symbol alphabet:  {'view': 1, 'detail': 2, 'add': 3, 'remove': 4}\n"
     ]
    },
    {
     "data": {
      "text/html": [
       "<div>\n",
       "<style scoped>\n",
       "    .dataframe tbody tr th:only-of-type {\n",
       "        vertical-align: middle;\n",
       "    }\n",
       "\n",
       "    .dataframe tbody tr th {\n",
       "        vertical-align: top;\n",
       "    }\n",
       "\n",
       "    .dataframe thead th {\n",
       "        text-align: right;\n",
       "    }\n",
       "</style>\n",
       "<table border=\"1\" class=\"dataframe\">\n",
       "  <thead>\n",
       "    <tr style=\"text-align: right;\">\n",
       "      <th></th>\n",
       "      <th>session_id_hash</th>\n",
       "      <th>product_action</th>\n",
       "      <th>purchase</th>\n",
       "      <th>len</th>\n",
       "      <th>session</th>\n",
       "    </tr>\n",
       "  </thead>\n",
       "  <tbody>\n",
       "    <tr>\n",
       "      <th>1</th>\n",
       "      <td>000010504025397b03290c7457e0e7ef7ae93529f21eae...</td>\n",
       "      <td>[detail, view, detail, view, detail, view, vie...</td>\n",
       "      <td>0</td>\n",
       "      <td>81</td>\n",
       "      <td>[2, 1, 2, 1, 2, 1, 1, 2, 1, 1, 1, 2, 2, 1, 2, ...</td>\n",
       "    </tr>\n",
       "    <tr>\n",
       "      <th>35</th>\n",
       "      <td>0002cc06d46d4835503b88e9eed2c8fc1ae97f5cc262a9...</td>\n",
       "      <td>[view, detail, detail, view, add, view, view, ...</td>\n",
       "      <td>0</td>\n",
       "      <td>18</td>\n",
       "      <td>[1, 2, 2, 1, 3, 1, 1, 1, 1, 1, 1, 1, 1, 1, 2, ...</td>\n",
       "    </tr>\n",
       "    <tr>\n",
       "      <th>40</th>\n",
       "      <td>00030ffeaf340fe2ef44c91bca1a7cffd5f07d1a44a081...</td>\n",
       "      <td>[view, detail, add, view, remove, add, remove,...</td>\n",
       "      <td>0</td>\n",
       "      <td>28</td>\n",
       "      <td>[1, 2, 3, 1, 4, 3, 4, 1, 1, 1, 2, 1, 2, 1, 2, ...</td>\n",
       "    </tr>\n",
       "    <tr>\n",
       "      <th>58</th>\n",
       "      <td>0004be10f232d2ebd86be1c1c46dcf741ee77651bc550d...</td>\n",
       "      <td>[view, view, view, view, view, view, view, det...</td>\n",
       "      <td>0</td>\n",
       "      <td>15</td>\n",
       "      <td>[1, 1, 1, 1, 1, 1, 1, 2, 1, 3, 1, 1, 2, 3, 1]</td>\n",
       "    </tr>\n",
       "    <tr>\n",
       "      <th>74</th>\n",
       "      <td>0005ea00d00f64fbfaaa8b110f268025ba8ad963d8fdd3...</td>\n",
       "      <td>[view, view, view, view, view, view, detail, v...</td>\n",
       "      <td>0</td>\n",
       "      <td>50</td>\n",
       "      <td>[1, 1, 1, 1, 1, 1, 2, 1, 1, 1, 2, 1, 2, 1, 1, ...</td>\n",
       "    </tr>\n",
       "  </tbody>\n",
       "</table>\n",
       "</div>"
      ],
      "text/plain": [
       "                                      session_id_hash  \\\n",
       "1   000010504025397b03290c7457e0e7ef7ae93529f21eae...   \n",
       "35  0002cc06d46d4835503b88e9eed2c8fc1ae97f5cc262a9...   \n",
       "40  00030ffeaf340fe2ef44c91bca1a7cffd5f07d1a44a081...   \n",
       "58  0004be10f232d2ebd86be1c1c46dcf741ee77651bc550d...   \n",
       "74  0005ea00d00f64fbfaaa8b110f268025ba8ad963d8fdd3...   \n",
       "\n",
       "                                       product_action  purchase  len  \\\n",
       "1   [detail, view, detail, view, detail, view, vie...         0   81   \n",
       "35  [view, detail, detail, view, add, view, view, ...         0   18   \n",
       "40  [view, detail, add, view, remove, add, remove,...         0   28   \n",
       "58  [view, view, view, view, view, view, view, det...         0   15   \n",
       "74  [view, view, view, view, view, view, detail, v...         0   50   \n",
       "\n",
       "                                              session  \n",
       "1   [2, 1, 2, 1, 2, 1, 1, 2, 1, 1, 1, 2, 2, 1, 2, ...  \n",
       "35  [1, 2, 2, 1, 3, 1, 1, 1, 1, 1, 1, 1, 1, 1, 2, ...  \n",
       "40  [1, 2, 3, 1, 4, 3, 4, 1, 1, 1, 2, 1, 2, 1, 2, ...  \n",
       "58      [1, 1, 1, 1, 1, 1, 1, 2, 1, 3, 1, 1, 2, 3, 1]  \n",
       "74  [1, 1, 1, 1, 1, 1, 2, 1, 1, 1, 2, 1, 2, 1, 1, ...  "
      ]
     },
     "execution_count": 7,
     "metadata": {},
     "output_type": "execute_result"
    }
   ],
   "source": [
    "## symbolise actions, based on practical session 1\n",
    "from collections import Counter\n",
    "def symbolize(df, symbol2idx=None):\n",
    "    sessions = df['product_action'].to_list()\n",
    "    labels = df['purchase'].to_list()\n",
    "    \n",
    "    if symbol2idx == None:\n",
    "        counts = Counter([item for session in sessions for item in session])\n",
    "        symbol2idx = {symbol: idx for idx, symbol in enumerate(sorted(counts, key=counts.get, reverse=True), 1)}\n",
    "        print(\"Symbol alphabet: \", symbol2idx)\n",
    "\n",
    "    df[\"session\"]=df[\"product_action\"].map(lambda session: [symbol2idx[s] for s in session])\n",
    "    \n",
    "    return df, symbol2idx\n",
    "\n",
    "train, symbol2idx = symbolize(train)\n",
    "test, _ = symbolize(test, symbol2idx)\n",
    "test.head()"
   ]
  },
  {
   "cell_type": "code",
   "execution_count": 8,
   "id": "a43c66be",
   "metadata": {
    "hidden": true,
    "scrolled": true
   },
   "outputs": [
    {
     "data": {
      "text/plain": [
       "{'view': 1, 'detail': 2, 'add': 3, 'remove': 4}"
      ]
     },
     "execution_count": 8,
     "metadata": {},
     "output_type": "execute_result"
    }
   ],
   "source": [
    "## Check the symbolisation\n",
    "symbol2idx"
   ]
  },
  {
   "cell_type": "markdown",
   "id": "9f8a751d",
   "metadata": {
    "heading_collapsed": true
   },
   "source": [
    "## Oracle model"
   ]
  },
  {
   "cell_type": "code",
   "execution_count": 9,
   "id": "ef562890",
   "metadata": {
    "hidden": true
   },
   "outputs": [],
   "source": [
    "from sklearn import metrics\n",
    "\n",
    "def oracle(X_train, y_train):\n",
    "    '''\n",
    "    This function return a oracle model based on the session and label.\n",
    "    '''\n",
    "    from collections import defaultdict\n",
    "\n",
    "    d = defaultdict(lambda: defaultdict(int))\n",
    "    for s, l in zip(X_train, y_train):\n",
    "        d[str(tuple(s))][l] += 1\n",
    "        \n",
    "    model = {}\n",
    "    for session in d.keys():\n",
    "        n_buy, n_ws = 0, 0\n",
    "        for label in d[session].keys():\n",
    "            if label:\n",
    "                n_buy += d[session][label]\n",
    "            else:\n",
    "                n_ws += d[session][label]\n",
    "        model[session] = n_buy / (n_buy + n_ws)\n",
    "        \n",
    "    return model\n",
    "\n",
    "def oracle_predict(model, X_test, y_test=None):\n",
    "    '''\n",
    "    1. Make prediction on X_test.\n",
    "    2. For possibility >0.5 predict 1, else 0.\n",
    "    3. return prediction and F1 score\n",
    "    '''\n",
    "\n",
    "    y_pred = []\n",
    "    for x in X_test:\n",
    "        pos = model.get(str(x), \"#\") ## For sessions that not in the model, we assign it to #, and then predict 0.\n",
    "        y_pred.append(pos)\n",
    "        \n",
    "    ## count \"#\" first and substitute with 0\n",
    "    missing_rate = y_pred.count(\"#\")/len(y_pred)\n",
    "\n",
    "    y_pred = [1 if y != \"#\" and y >= 0.5 else 0 for y in y_pred]\n",
    "        \n",
    "    if y_test is not None:\n",
    "#         y_test = y_test.to_list()\n",
    "        f1 = metrics.f1_score(y_test, y_pred)\n",
    "        return(f1, missing_rate,y_pred)\n",
    "    else:\n",
    "        return y_pred"
   ]
  },
  {
   "cell_type": "code",
   "execution_count": 10,
   "id": "77f3ed2f",
   "metadata": {
    "hidden": true
   },
   "outputs": [
    {
     "data": {
      "text/plain": [
       "0.8706342991386061"
      ]
     },
     "execution_count": 10,
     "metadata": {},
     "output_type": "execute_result"
    }
   ],
   "source": [
    "## Oracle model for 5 clicks\n",
    "## Subset from the original test\n",
    "i = 5\n",
    "data = test[[\"session\", \"purchase\"]]\n",
    "data.session = test.session.map(lambda x: x[:x.index(3)+1+i] if len(x[x.index(3)+1:])>=i else None)\n",
    "data.session = test.session.map(tuple)\n",
    "data = data.dropna()\n",
    "    \n",
    "model = oracle(data.session, data.purchase)\n",
    "f1, missing_rate, prediction = oracle_predict(model, data.session, data.purchase)\n",
    "f1"
   ]
  },
  {
   "cell_type": "code",
   "execution_count": 11,
   "id": "e32033a9",
   "metadata": {
    "hidden": true
   },
   "outputs": [
    {
     "data": {
      "text/plain": [
       "0.8706342991386061"
      ]
     },
     "execution_count": 11,
     "metadata": {},
     "output_type": "execute_result"
    }
   ],
   "source": [
    "# oracle model for 10 clicks\n",
    "i = 10\n",
    "data = test[[\"session\", \"purchase\"]]\n",
    "data.session = test.session.map(lambda x: x[:x.index(3)+1+i] if len(x[x.index(3)+1:])>=i else None)\n",
    "data.session = test.session.map(tuple)\n",
    "data = data.dropna()\n",
    "    \n",
    "model = oracle(data.session, data.purchase)\n",
    "f1, missing_rate, prediction = oracle_predict(model, data.session, data.purchase)\n",
    "f1"
   ]
  },
  {
   "cell_type": "code",
   "execution_count": 12,
   "id": "863be33e",
   "metadata": {
    "hidden": true,
    "scrolled": false
   },
   "outputs": [
    {
     "data": {
      "text/plain": [
       "0.8706342991386061"
      ]
     },
     "execution_count": 12,
     "metadata": {},
     "output_type": "execute_result"
    }
   ],
   "source": [
    "# oracle model for 15 clicks\n",
    "i = 15\n",
    "data = test[[\"session\", \"purchase\"]]\n",
    "data.session = test.session.map(lambda x: x[:x.index(3)+1+i] if len(x[x.index(3)+1:])>=i else None)\n",
    "data.session = test.session.map(tuple)\n",
    "data = data.dropna()\n",
    "    \n",
    "model = oracle(data.session, data.purchase)\n",
    "f1, missing_rate, prediction = oracle_predict(model, data.session, data.purchase)\n",
    "f1"
   ]
  },
  {
   "cell_type": "markdown",
   "id": "033c5e35",
   "metadata": {
    "heading_collapsed": true
   },
   "source": [
    "## Subset by post-add-to-cart\n",
    "\n",
    "1. Subset data for n-click (n=5, 10, 15) models."
   ]
  },
  {
   "cell_type": "code",
   "execution_count": 13,
   "id": "6ac49b82",
   "metadata": {
    "hidden": true
   },
   "outputs": [],
   "source": [
    "## Get dataframe subsets\n",
    "## make the prediction for 5, 10 and 15, and store the f1 it in a dict\n",
    "from collections import defaultdict\n",
    "\n",
    "def makeSubset(df):\n",
    "    data = defaultdict(lambda: defaultdict())\n",
    "    \n",
    "    for i in [5, 10, 15]:    \n",
    "        ## Subset from the original df\n",
    "        temp = df[[\"session\", \"purchase\"]]\n",
    "        temp.session = temp.session.map(lambda x: x[:x.index(3)+1+i] if len(x[x.index(3)+1:])>=i else None)\n",
    "        temp = temp.dropna()\n",
    "        \n",
    "        data[f\"{i}_clicks\"][\"X\"] = temp.session.to_numpy()\n",
    "        data[f\"{i}_clicks\"][\"Y\"] = temp.purchase.to_numpy()\n",
    "    \n",
    "    return data\n",
    "\n",
    "train_data = makeSubset(train)\n",
    "test_data = makeSubset(test)"
   ]
  },
  {
   "cell_type": "code",
   "execution_count": 14,
   "id": "a6773f8e",
   "metadata": {
    "hidden": true
   },
   "outputs": [
    {
     "name": "stdout",
     "output_type": "stream",
     "text": [
      "   5_clicks  10_clicks  15_clicks\n",
      "X    107767      75887      55270\n",
      "Y    107767      75887      55270\n",
      "   5_clicks  10_clicks  15_clicks\n",
      "X     24969      17424      12704\n",
      "Y     24969      17424      12704\n"
     ]
    }
   ],
   "source": [
    "train_size = pd.DataFrame(train_data).applymap(len)\n",
    "test_size = pd.DataFrame(test_data).applymap(len)\n",
    "print(train_size)\n",
    "print(test_size)"
   ]
  },
  {
   "cell_type": "markdown",
   "id": "8159eccd",
   "metadata": {
    "heading_collapsed": true
   },
   "source": [
    "## Naive Bayes Model"
   ]
  },
  {
   "cell_type": "code",
   "execution_count": 15,
   "id": "b2f8be3e",
   "metadata": {
    "hidden": true
   },
   "outputs": [],
   "source": [
    "## Encode ngrams, code from practical session 2\n",
    "def ngram_featurizer(session, n=3):\n",
    "    \n",
    "    \"\"\"takes in a list and an integer defining the size of ngrams.\n",
    "     Returns the ngrams of desired size in the input string\"\"\"\n",
    "    \n",
    "    session = ['#']*(n-1) + session + ['+']*(n-1)\n",
    "    ngrams = [tuple(session[i:i+n]) for i in range(len(session)-n+1)]\n",
    "    \n",
    "    return ngrams\n",
    "    \n",
    "\n",
    "def encode_sessions(sessions,n=3, mapping=None):\n",
    "    \n",
    "    \"\"\"\n",
    "    Takes in a list of lists, an integer indicating the character ngrams' size,\n",
    "    and a dictionary mapping ngrams to numerical indices. If no dictionary is passed,\n",
    "    one is created inside the function.\n",
    "    The function outputs a 2d NumPy array with as many rows as there are strings in \n",
    "    the input list, and the mapping from ngrams to indices, representing the columns \n",
    "    of the NumPy array.\n",
    "    \"\"\"\n",
    "    \n",
    "    if not mapping:\n",
    "        all_ngrams = set()\n",
    "        for session in sessions:\n",
    "            all_ngrams = all_ngrams.union(set(ngram_featurizer(session, n)))\n",
    "    \n",
    "        mapping = {ngram: i for i, ngram in enumerate(all_ngrams)}\n",
    "    \n",
    "    X = np.zeros((len(sessions), len(mapping)))\n",
    "    for i, session in enumerate(sessions):\n",
    "        for ngram in ngram_featurizer(session, n):\n",
    "            try:\n",
    "                X[i, mapping[ngram]] += 1\n",
    "            except KeyError:\n",
    "                pass\n",
    "    \n",
    "    return X, mapping"
   ]
  },
  {
   "cell_type": "code",
   "execution_count": 16,
   "id": "89e6a71a",
   "metadata": {
    "hidden": true,
    "scrolled": true
   },
   "outputs": [],
   "source": [
    "from sklearn.naive_bayes import MultinomialNB\n",
    "\n",
    "score = {}\n",
    "for i in [5,10,15]:\n",
    "    sessions_train = train_data[f\"{i}_clicks\"][\"X\"]\n",
    "    labels_train = train_data[f\"{i}_clicks\"][\"Y\"]\n",
    "    \n",
    "    sessions_test = test_data[f\"{i}_clicks\"][\"X\"]\n",
    "    labels_test = test_data[f\"{i}_clicks\"][\"Y\"]\n",
    "\n",
    "    Xtrain, mapping = encode_sessions(sessions_train)\n",
    "    Xtest, _ = encode_sessions(sessions_test, mapping=mapping)\n",
    "\n",
    "    NB = MultinomialNB(alpha=1, fit_prior=True)\n",
    "    NB.fit(Xtrain,labels_train)\n",
    "    bayes_predictions = NB.predict(Xtest)\n",
    "    \n",
    "    f1 = metrics.f1_score(labels_test, bayes_predictions)\n",
    "    \n",
    "    score[f\"F1_{i}-clicks\"] = f1"
   ]
  },
  {
   "cell_type": "code",
   "execution_count": 17,
   "id": "d0e60380",
   "metadata": {
    "hidden": true,
    "scrolled": true
   },
   "outputs": [
    {
     "name": "stdout",
     "output_type": "stream",
     "text": [
      "{'F1_5-clicks': 0.3124876701519037, 'F1_10-clicks': 0.356648541769649, 'F1_15-clicks': 0.3699518032241981}\n"
     ]
    }
   ],
   "source": [
    "print(score)"
   ]
  },
  {
   "cell_type": "markdown",
   "id": "d005cf71",
   "metadata": {},
   "source": [
    "## Advanced Model: XGBoost Classifier"
   ]
  },
  {
   "cell_type": "markdown",
   "id": "f3e81c6c",
   "metadata": {
    "heading_collapsed": true
   },
   "source": [
    "### 5-clicks"
   ]
  },
  {
   "cell_type": "code",
   "execution_count": 39,
   "id": "1522c1bf",
   "metadata": {},
   "outputs": [],
   "source": [
    "##################################5 CLICKS  XGBOOST MODEL ################################\n",
    "### Get the copy of the data\n",
    "from sklearn.utils import resample\n",
    "from sklearn.metrics import plot_confusion_matrix\n",
    "import matplotlib.pyplot as plt\n",
    "def xgboost_model(n_click = '5_clicks', downsample = True):\n",
    "    \n",
    "    X_train = train_data[n_click]['X']\n",
    "    y_train = train_data[n_click]['Y']\n",
    "    X_test = test_data[n_click]['X']\n",
    "    y_test = test_data[n_click]['Y']\n",
    "    \n",
    "    if downsample == True:  ##### If downsample is set to True, this part will run and resample the data\n",
    "        ### Downsampling the training data\n",
    "        ### And keep the test data in shape\n",
    "        temp = pd.DataFrame({\"session\": X_train, 'purchase': y_train})\n",
    "\n",
    "        class_0 = temp[temp.purchase == 0]\n",
    "        class_1 = temp[temp.purchase == 1]\n",
    "\n",
    "        class_0 = resample(class_0,\n",
    "                     replace=True,\n",
    "                     n_samples=len(class_1),\n",
    "                     random_state=123)\n",
    "\n",
    "\n",
    "        data_downsampled = pd.concat([class_0, class_1])\n",
    "\n",
    "        X_train = data_downsampled.session\n",
    "        y_train = data_downsampled.purchase\n",
    "    ### Featurization\n",
    "    ## Doing ngrams with n = 1 AND 2\n",
    "\n",
    "    one_gram, mapping_1 = encode_sessions(X_train,n=1, mapping=None)\n",
    "    two_gram, mapping_2 = encode_sessions(X_train,n=2, mapping=None)\n",
    "\n",
    "    mapping_2 = {key: value + len(mapping_1) for key,value in mapping_2.items()}\n",
    "    mapping = {**mapping_1, **mapping_2}\n",
    "    X_train = np.concatenate((one_gram, two_gram), axis=1)\n",
    "\n",
    "    # featurize X_test\n",
    "    X = np.zeros((len(X_test), len(mapping)))\n",
    "    for i, session in enumerate(X_test):\n",
    "        for ngram in ngram_featurizer(session, 1) + ngram_featurizer(session, 2):\n",
    "            try:\n",
    "                X[i, mapping[ngram]] += 1\n",
    "            except KeyError:\n",
    "                pass\n",
    "    X_test = X\n",
    "    \n",
    "    param_grid = {\n",
    "        'gamma': [0], \n",
    "        'learning_rate': [0.05], \n",
    "        'max_depth': [5, 6, 7],\n",
    "        'reg_lambda': [9.0, 10.0, 11.0],\n",
    "        'scale_pos_weight': [1]}\n",
    "\n",
    "    optimal_params = GridSearchCV(\n",
    "        estimator=XGBClassifier(objective='binary:logistic',\n",
    "                                    seed=123,\n",
    "                                    subsample=0.9,\n",
    "                                    colsample_bytree=0.5),\n",
    "        param_grid=param_grid,\n",
    "        scoring='f1',\n",
    "        verbose = 0,\n",
    "        n_jobs = 5,\n",
    "        cv = 3\n",
    "    )\n",
    "\n",
    "    optimal_params.fit(X_train,\n",
    "                      y_train,\n",
    "                      early_stopping_rounds=10,\n",
    "                      eval_metric='aucpr',\n",
    "                      eval_set=[(X_test, y_test)],\n",
    "                      verbose=False)\n",
    "    preds = optimal_params.predict(X_test)\n",
    "\n",
    "    f1 = metrics.f1_score(y_test, preds)\n",
    "    \n",
    "    #Create and return a dataframe \n",
    "    \n",
    "    output = pd.DataFrame(data=preds, columns=['Predicted Labels'])\n",
    "    output['True Labels'] = y_test\n",
    "    output['Predicted == True'] = np.where(output[\"Predicted Labels\"] == output['True Labels'], 1, 0)\n",
    "    output['Session Length'] = [len(x) for x in test_data[n_click]['X']]\n",
    "    \n",
    "    return output"
   ]
  },
  {
   "cell_type": "markdown",
   "id": "187255ee",
   "metadata": {
    "hidden": true
   },
   "source": [
    "#### Featurization & Downsampling"
   ]
  },
  {
   "cell_type": "markdown",
   "id": "640bef6e",
   "metadata": {
    "hidden": true
   },
   "source": [
    "#### Model Train and Predict"
   ]
  },
  {
   "cell_type": "code",
   "execution_count": 42,
   "id": "5179ab73",
   "metadata": {
    "scrolled": true
   },
   "outputs": [],
   "source": [
    "###Dataframe output from xgboost functions for data without downsampling\n",
    "click15_nodown = xgboost_model(n_click = '15_clicks', downsample= False)\n",
    "click10_nodown = xgboost_model(n_click = '10_clicks', downsample = False)\n",
    "click5_nodown = xgboost_model(n_click = '5_clicks', downsample = False)"
   ]
  },
  {
   "cell_type": "code",
   "execution_count": 43,
   "id": "ba958ea6",
   "metadata": {},
   "outputs": [],
   "source": [
    "###Dataframe output from xgboost functions for data with downsampling\n",
    "click15_down = xgboost_model(n_click = '15_clicks', downsample = True)\n",
    "click10_down = xgboost_model(n_click = '10_clicks', downsample = True)\n",
    "clicks5_down = xgboost_model(n_click = '5_clicks', downsample = True)"
   ]
  },
  {
   "cell_type": "code",
   "execution_count": 44,
   "id": "6fafd9ae",
   "metadata": {},
   "outputs": [
    {
     "name": "stdout",
     "output_type": "stream",
     "text": [
      "F1 scores:  0.1748456288592785 0.12850999241082722 0.08750963762528913\n"
     ]
    },
    {
     "data": {
      "image/png": "[encoded data removed]",
      "text/plain": [
       "<Figure size 432x288 with 1 Axes>"
      ]
     },
     "metadata": {
      "needs_background": "light"
     },
     "output_type": "display_data"
    }
   ],
   "source": [
    "##Plot for not resampled data\n",
    "import sklearn.metrics\n",
    "\n",
    "f1_15 = metrics.f1_score(click15_nodown['True Labels'], click15_nodown['Predicted Labels'])\n",
    "f1_10 = metrics.f1_score(click10_nodown['True Labels'], click10_nodown['Predicted Labels'])\n",
    "f1_5 = metrics.f1_score(click5_nodown['True Labels'], click5_nodown['Predicted Labels'])\n",
    "print('F1 scores: ', f1_15, f1_10, f1_5)\n",
    "w = 0.3\n",
    "clicks = ['15 Clicks', '10 Clicks', '5 Clicks']\n",
    "f1s = [f1_15, f1_10, f1_5]\n",
    "ax = plt.subplot()\n",
    "ax.bar(clicks, f1s, width=w, color='b', align='center'), plt.title('F1 Scores For Regular Data')\n",
    "plt.show()"
   ]
  },
  {
   "cell_type": "code",
   "execution_count": 45,
   "id": "81f146e3",
   "metadata": {},
   "outputs": [
    {
     "name": "stdout",
     "output_type": "stream",
     "text": [
      "F1 scores:  0.3991689390988183 0.3872163856272623 0.36119013750592704\n"
     ]
    },
    {
     "data": {
      "image/png": "[encoded data removed]",
      "text/plain": [
       "<Figure size 432x288 with 1 Axes>"
      ]
     },
     "metadata": {
      "needs_background": "light"
     },
     "output_type": "display_data"
    }
   ],
   "source": [
    "####Plot for Resampled Data\n",
    "f1_15_2 = metrics.f1_score(click15_down['True Labels'], click15_down['Predicted Labels'])\n",
    "f1_10_2 = metrics.f1_score(click10_down['True Labels'], click10_down['Predicted Labels'])\n",
    "f1_5_2 = metrics.f1_score(clicks5_down['True Labels'], clicks5_down['Predicted Labels'])\n",
    "\n",
    "print('F1 scores: ', f1_15_2, f1_10_2, f1_5_2)\n",
    "w = 0.3\n",
    "clicks = ['15 Clicks', '10 Clicks', '5 Clicks']\n",
    "f1s_2 = [f1_15_2, f1_10_2, f1_5_2]\n",
    "ax = plt.subplot()\n",
    "ax.bar(clicks, f1s_2, width=w, color='g', align='center'), plt.title('F1 Scores For Resampled Data')\n",
    "plt.show()"
   ]
  },
  {
   "cell_type": "code",
   "execution_count": 46,
   "id": "7113b879",
   "metadata": {
    "scrolled": true
   },
   "outputs": [
    {
     "data": {
      "text/plain": [
       "<matplotlib.legend.Legend at 0x2c300d46388>"
      ]
     },
     "execution_count": 46,
     "metadata": {},
     "output_type": "execute_result"
    },
    {
     "data": {
      "image/png": "[encoded data removed]",
      "text/plain": [
       "<Figure size 432x288 with 1 Axes>"
      ]
     },
     "metadata": {
      "needs_background": "light"
     },
     "output_type": "display_data"
    }
   ],
   "source": [
    "###Plot to compare resampled and regular data\n",
    "x = np.arange(3)\n",
    "fig = plt.figure()\n",
    "ax = plt.subplot()\n",
    "ax.bar(x, f1s, color = 'b', width = 0.25)\n",
    "ax.bar(x + 0.25, f1s_2, color = 'g', width = 0.25, tick_label = ['15 Clicks', '10 Clicks', '5 Clicks'])\n",
    "ax.legend(labels=['No Resample', 'Resampled'])"
   ]
  },
  {
   "cell_type": "code",
   "execution_count": 47,
   "id": "d81d501a",
   "metadata": {},
   "outputs": [
    {
     "data": {
      "image/png": "[encoded data removed]",
      "text/plain": [
       "<Figure size 432x288 with 1 Axes>"
      ]
     },
     "metadata": {
      "needs_background": "light"
     },
     "output_type": "display_data"
    }
   ],
   "source": [
    "#Mean session length + plot\n",
    "session_5 = click5_nodown['Session Length'].mean()\n",
    "session_10 = click10_nodown['Session Length'].mean()\n",
    "session_15 = click15_nodown['Session Length'].mean()\n",
    "\n",
    "w = 0.3\n",
    "sessions = [session_5, session_10, session_15]\n",
    "clicks = ['5 Clicks', '10 Clicks', '15 Clicks']\n",
    "ax = plt.subplot()\n",
    "ax.bar(clicks, sessions, width=w, color='r', align='center'), plt.title('Mean Session Length')\n",
    "plt.show()"
   ]
  },
  {
   "cell_type": "code",
   "execution_count": 48,
   "id": "00e5667e",
   "metadata": {
    "hidden": true,
    "scrolled": true
   },
   "outputs": [
    {
     "name": "stdout",
     "output_type": "stream",
     "text": [
      "{'gamma': 0, 'learning_rate': 0.05, 'max_depth': 5, 'reg_lambda': 10.0, 'scale_pos_weight': 1}\n"
     ]
    }
   ],
   "source": [
    "## ROUND 1\n",
    "# param_grid = {\n",
    "#     'max_depth': [3,4,5],\n",
    "#     'learning_rate': [0.1,0.01,0.05],\n",
    "#     'gamma': [0,0.25,1.0],\n",
    "#     'reg_lambda': [0,1.0, 10.0],\n",
    "#     'scale_pos_weight': [1,3,5]\n",
    "# }\n",
    "\n",
    "# RESULT of the first Round:\n",
    "#        {'gamma': 0, \n",
    "#         'learning_rate': 0.05, \n",
    "#         'max_depth': 5, \n",
    "#         'reg_lambda': 10.0, \n",
    "#         'scale_pos_weight': 1}\n",
    "\n",
    "## Round 2\n",
    "param_grid = {\n",
    "        'gamma': [0], \n",
    "        'learning_rate': [0.05], \n",
    "        'max_depth': [5, 6, 7],\n",
    "        'reg_lambda': [9.0, 10.0, 11.0],\n",
    "        'scale_pos_weight': [1]}\n",
    "\n",
    "optimal_params = GridSearchCV(\n",
    "    estimator=XGBClassifier(objective='binary:logistic',\n",
    "                                seed=123,\n",
    "                                subsample=0.9,\n",
    "                                colsample_bytree=0.5),\n",
    "    param_grid=param_grid,\n",
    "    scoring='f1',\n",
    "    verbose = 0,\n",
    "    n_jobs = 5,\n",
    "    cv = 3\n",
    ")\n",
    "\n",
    "optimal_params.fit(X_train,\n",
    "                   y_train,\n",
    "                  early_stopping_rounds=10,\n",
    "                  eval_metric='aucpr',\n",
    "                  eval_set=[(X_test, y_test)],\n",
    "                  verbose=False)\n",
    "print(optimal_params.best_params_)"
   ]
  },
  {
   "cell_type": "code",
   "execution_count": 49,
   "id": "8592ca3f",
   "metadata": {
    "hidden": true
   },
   "outputs": [
    {
     "data": {
      "text/plain": [
       "0.36119013750592704"
      ]
     },
     "execution_count": 49,
     "metadata": {},
     "output_type": "execute_result"
    }
   ],
   "source": [
    "## Fit and Predict\n",
    "preds = optimal_params.predict(X_test)\n",
    "\n",
    "f1 = metrics.f1_score(y_test, preds)\n",
    "\n",
    "f1"
   ]
  },
  {
   "cell_type": "code",
   "execution_count": 50,
   "id": "4ac3a03a",
   "metadata": {
    "hidden": true,
    "scrolled": false
   },
   "outputs": [
    {
     "data": {
      "text/plain": [
       "<sklearn.metrics._plot.confusion_matrix.ConfusionMatrixDisplay at 0x2c300950ec8>"
      ]
     },
     "execution_count": 50,
     "metadata": {},
     "output_type": "execute_result"
    },
    {
     "data": {
      "image/png": "[encoded data removed]",
      "text/plain": [
       "<Figure size 432x288 with 2 Axes>"
      ]
     },
     "metadata": {
      "needs_background": "light"
     },
     "output_type": "display_data"
    }
   ],
   "source": [
    "from sklearn.metrics import plot_confusion_matrix\n",
    "\n",
    "plot_confusion_matrix(optimal_params,\n",
    "                      X_test,\n",
    "                      y_test,\n",
    "                      values_format='d')"
   ]
  },
  {
   "cell_type": "code",
   "execution_count": 51,
   "id": "009c6ecd",
   "metadata": {
    "hidden": true
   },
   "outputs": [
    {
     "data": {
      "text/html": [
       "<div>\n",
       "<style scoped>\n",
       "    .dataframe tbody tr th:only-of-type {\n",
       "        vertical-align: middle;\n",
       "    }\n",
       "\n",
       "    .dataframe tbody tr th {\n",
       "        vertical-align: top;\n",
       "    }\n",
       "\n",
       "    .dataframe thead th {\n",
       "        text-align: right;\n",
       "    }\n",
       "</style>\n",
       "<table border=\"1\" class=\"dataframe\">\n",
       "  <thead>\n",
       "    <tr style=\"text-align: right;\">\n",
       "      <th></th>\n",
       "      <th>Predicted Labels</th>\n",
       "      <th>True Labels</th>\n",
       "      <th>Predicted == True</th>\n",
       "      <th>Session Length</th>\n",
       "    </tr>\n",
       "  </thead>\n",
       "  <tbody>\n",
       "    <tr>\n",
       "      <th>0</th>\n",
       "      <td>0</td>\n",
       "      <td>0</td>\n",
       "      <td>1</td>\n",
       "      <td>28</td>\n",
       "    </tr>\n",
       "    <tr>\n",
       "      <th>1</th>\n",
       "      <td>1</td>\n",
       "      <td>0</td>\n",
       "      <td>0</td>\n",
       "      <td>10</td>\n",
       "    </tr>\n",
       "    <tr>\n",
       "      <th>2</th>\n",
       "      <td>0</td>\n",
       "      <td>0</td>\n",
       "      <td>1</td>\n",
       "      <td>8</td>\n",
       "    </tr>\n",
       "    <tr>\n",
       "      <th>3</th>\n",
       "      <td>1</td>\n",
       "      <td>0</td>\n",
       "      <td>0</td>\n",
       "      <td>15</td>\n",
       "    </tr>\n",
       "    <tr>\n",
       "      <th>4</th>\n",
       "      <td>0</td>\n",
       "      <td>0</td>\n",
       "      <td>1</td>\n",
       "      <td>35</td>\n",
       "    </tr>\n",
       "  </tbody>\n",
       "</table>\n",
       "</div>"
      ],
      "text/plain": [
       "   Predicted Labels  True Labels  Predicted == True  Session Length\n",
       "0                 0            0                  1              28\n",
       "1                 1            0                  0              10\n",
       "2                 0            0                  1               8\n",
       "3                 1            0                  0              15\n",
       "4                 0            0                  1              35"
      ]
     },
     "execution_count": 51,
     "metadata": {},
     "output_type": "execute_result"
    }
   ],
   "source": [
    "# Grab results for error analysis in R\n",
    "output_5_clicks = pd.DataFrame(data=preds, columns=['Predicted Labels'])\n",
    "output_5_clicks['True Labels'] = y_test\n",
    "output_5_clicks['Predicted == True'] = np.where(output_5_clicks[\"Predicted Labels\"] == output_5_clicks['True Labels'], 1, 0)\n",
    "output_5_clicks['Session Length'] = [len(x) for x in test_data['5_clicks']['X']]\n",
    "\n",
    "output_5_clicks.head(5)"
   ]
  },
  {
   "cell_type": "code",
   "execution_count": 52,
   "id": "c42fe6cc",
   "metadata": {},
   "outputs": [],
   "source": [
    "#Save output as a csv\n",
    "path = os.path.join(wd, \"data\", \"5_clicks_no_downsample.csv\")\n",
    "output_5_clicks.to_csv(path)"
   ]
  },
  {
   "cell_type": "markdown",
   "id": "da4127f2",
   "metadata": {},
   "source": [
    "### 10-clicks"
   ]
  },
  {
   "cell_type": "markdown",
   "id": "16b12175",
   "metadata": {},
   "source": [
    "#### Featurization & Downsampling"
   ]
  },
  {
   "cell_type": "code",
   "execution_count": 54,
   "id": "fec7dcef",
   "metadata": {},
   "outputs": [],
   "source": [
    "### Get the copy of the data\n",
    "i = '10_clicks'\n",
    "X_train = train_data[i]['X']\n",
    "y_train = train_data[i]['Y']\n",
    "X_test = test_data[i]['X']\n",
    "y_test = test_data[i]['Y']\n",
    "\n",
    "### Downsampling the training data\n",
    "### And keep the test data in shape\n",
    "temp = pd.DataFrame({\"session\": X_train, 'purchase': y_train})\n",
    "\n",
    "class_0 = temp[temp.purchase == 0]\n",
    "class_1 = temp[temp.purchase == 1]\n",
    "\n",
    "class_0 = resample(class_0,\n",
    "             replace=True,\n",
    "             n_samples=len(class_1),\n",
    "             random_state=123)\n",
    "\n",
    "\n",
    "data_downsampled = pd.concat([class_0, class_1])\n",
    "\n",
    "X_train = data_downsampled.session\n",
    "y_train = data_downsampled.purchase\n",
    "\n",
    "### Featurization\n",
    "## Doing ngrams with n = 1 AND 2\n",
    "\n",
    "one_gram, maping_1 = encode_sessions(X_train,n=1, mapping=None)\n",
    "two_gram, maping_2 = encode_sessions(X_train,n=2, mapping=None)\n",
    "\n",
    "maping_2 = {key: value + len(maping_1) for key,value in maping_2.items()}\n",
    "maping = {**maping_1, **maping_2}\n",
    "X_train = np.concatenate((one_gram, two_gram), axis=1)\n",
    "\n",
    "# featurize X_test\n",
    "X = np.zeros((len(X_test), len(maping)))\n",
    "for i, session in enumerate(X_test):\n",
    "    for ngram in ngram_featurizer(session, 1) + ngram_featurizer(session, 2):\n",
    "        try:\n",
    "            X[i, maping[ngram]] += 1\n",
    "        except KeyError:\n",
    "            pass\n",
    "X_test = X"
   ]
  },
  {
   "cell_type": "markdown",
   "id": "5fd2a134",
   "metadata": {},
   "source": [
    "#### Model Train and Predict"
   ]
  },
  {
   "cell_type": "code",
   "execution_count": 55,
   "id": "8e068760",
   "metadata": {
    "scrolled": true
   },
   "outputs": [
    {
     "name": "stdout",
     "output_type": "stream",
     "text": [
      "{'gamma': 1, 'learning_rate': 0.1, 'max_depth': 4, 'reg_lambda': 9.0, 'scale_pos_weight': 3}\n"
     ]
    }
   ],
   "source": [
    "# ROUND 1\n",
    "# param_grid = {\n",
    "#     'max_depth': [3,4,5],\n",
    "#     'learning_rate': [0.1,0.01,0.05],\n",
    "#     'gamma': [0,0.25,1.0],\n",
    "#     'reg_lambda': [0,1.0, 10.0],\n",
    "#     'scale_pos_weight': [1,3,5]\n",
    "# }\n",
    "\n",
    "# RESULT of the first Round:\n",
    "#        {'gamma': 1.0, 'learning_rate': 0.1, 'max_depth': 4, 'reg_lambda': 10.0, 'scale_pos_weight': 3}\n",
    "\n",
    "## Round 2\n",
    "param_grid = {\n",
    "        'gamma': [1], \n",
    "        'learning_rate': [0.1], \n",
    "        'max_depth': [4],\n",
    "        'reg_lambda': [9.0, 10.0, 11.0],\n",
    "        'scale_pos_weight': [3]}\n",
    "\n",
    "optimal_params = GridSearchCV(\n",
    "    estimator = XGBClassifier(objective='binary:logistic',\n",
    "                                seed=123,\n",
    "                                subsample=0.9,\n",
    "                                colsample_bytree=0.5),\n",
    "    param_grid=param_grid,\n",
    "    scoring='f1',\n",
    "    verbose = 0,\n",
    "    n_jobs = 5,\n",
    "    cv = 3\n",
    ")\n",
    "\n",
    "optimal_params.fit(X_train,\n",
    "                   y_train,\n",
    "                  early_stopping_rounds=10,\n",
    "                  eval_metric='aucpr',\n",
    "                  eval_set=[(X_test, y_test)],\n",
    "                  verbose=False)\n",
    "print(optimal_params.best_params_)"
   ]
  },
  {
   "cell_type": "code",
   "execution_count": 56,
   "id": "07fb52df",
   "metadata": {},
   "outputs": [
    {
     "data": {
      "text/plain": [
       "0.335458128558221"
      ]
     },
     "execution_count": 56,
     "metadata": {},
     "output_type": "execute_result"
    }
   ],
   "source": [
    "## Fit and Predict\n",
    "preds = optimal_params.predict(X_test)\n",
    "f1 = metrics.f1_score(y_test, preds)\n",
    "f1"
   ]
  },
  {
   "cell_type": "code",
   "execution_count": 57,
   "id": "541c8784",
   "metadata": {
    "scrolled": false
   },
   "outputs": [
    {
     "data": {
      "text/plain": [
       "<sklearn.metrics._plot.confusion_matrix.ConfusionMatrixDisplay at 0x2c2c2deab48>"
      ]
     },
     "execution_count": 57,
     "metadata": {},
     "output_type": "execute_result"
    },
    {
     "data": {
      "image/png": "[encoded data removed]",
      "text/plain": [
       "<Figure size 432x288 with 2 Axes>"
      ]
     },
     "metadata": {
      "needs_background": "light"
     },
     "output_type": "display_data"
    }
   ],
   "source": [
    "## Plot the confusion metrics\n",
    "plot_confusion_matrix(optimal_params,\n",
    "                      X_test,\n",
    "                      y_test,\n",
    "                      values_format='d')"
   ]
  },
  {
   "cell_type": "code",
   "execution_count": 58,
   "id": "358b3e01",
   "metadata": {},
   "outputs": [
    {
     "data": {
      "text/html": [
       "<div>\n",
       "<style scoped>\n",
       "    .dataframe tbody tr th:only-of-type {\n",
       "        vertical-align: middle;\n",
       "    }\n",
       "\n",
       "    .dataframe tbody tr th {\n",
       "        vertical-align: top;\n",
       "    }\n",
       "\n",
       "    .dataframe thead th {\n",
       "        text-align: right;\n",
       "    }\n",
       "</style>\n",
       "<table border=\"1\" class=\"dataframe\">\n",
       "  <thead>\n",
       "    <tr style=\"text-align: right;\">\n",
       "      <th></th>\n",
       "      <th>Predicted Labels</th>\n",
       "      <th>True Labels</th>\n",
       "      <th>Predicted == True</th>\n",
       "      <th>Session Length</th>\n",
       "    </tr>\n",
       "  </thead>\n",
       "  <tbody>\n",
       "    <tr>\n",
       "      <th>0</th>\n",
       "      <td>1</td>\n",
       "      <td>0</td>\n",
       "      <td>0</td>\n",
       "      <td>33</td>\n",
       "    </tr>\n",
       "    <tr>\n",
       "      <th>1</th>\n",
       "      <td>1</td>\n",
       "      <td>0</td>\n",
       "      <td>0</td>\n",
       "      <td>15</td>\n",
       "    </tr>\n",
       "    <tr>\n",
       "      <th>2</th>\n",
       "      <td>1</td>\n",
       "      <td>0</td>\n",
       "      <td>0</td>\n",
       "      <td>13</td>\n",
       "    </tr>\n",
       "    <tr>\n",
       "      <th>3</th>\n",
       "      <td>1</td>\n",
       "      <td>0</td>\n",
       "      <td>0</td>\n",
       "      <td>40</td>\n",
       "    </tr>\n",
       "    <tr>\n",
       "      <th>4</th>\n",
       "      <td>1</td>\n",
       "      <td>0</td>\n",
       "      <td>0</td>\n",
       "      <td>13</td>\n",
       "    </tr>\n",
       "  </tbody>\n",
       "</table>\n",
       "</div>"
      ],
      "text/plain": [
       "   Predicted Labels  True Labels  Predicted == True  Session Length\n",
       "0                 1            0                  0              33\n",
       "1                 1            0                  0              15\n",
       "2                 1            0                  0              13\n",
       "3                 1            0                  0              40\n",
       "4                 1            0                  0              13"
      ]
     },
     "execution_count": 58,
     "metadata": {},
     "output_type": "execute_result"
    }
   ],
   "source": [
    "output_10_clicks = pd.DataFrame(data=preds, columns=['Predicted Labels'])\n",
    "output_10_clicks['True Labels'] = y_test\n",
    "output_10_clicks['Predicted == True'] = np.where(output_10_clicks[\"Predicted Labels\"] == \\\n",
    "                                                 output_10_clicks['True Labels'], 1, 0)\n",
    "output_10_clicks['Session Length'] = [len(x) for x in test_data['10_clicks']['X']]\n",
    "\n",
    "output_10_clicks.head(5)"
   ]
  },
  {
   "cell_type": "code",
   "execution_count": 59,
   "id": "bb5e2196",
   "metadata": {},
   "outputs": [],
   "source": [
    "#Save output as a csv\n",
    "path = os.path.join(wd, \"data\", \"10_clicks_downsampled.csv\")\n",
    "output_10_clicks.to_csv(path)"
   ]
  },
  {
   "cell_type": "markdown",
   "id": "98c68542",
   "metadata": {},
   "source": [
    "### 15-clicks"
   ]
  },
  {
   "cell_type": "markdown",
   "id": "66429d96",
   "metadata": {},
   "source": [
    "#### Featurization & Downsampling"
   ]
  },
  {
   "cell_type": "code",
   "execution_count": 60,
   "id": "7c1753e6",
   "metadata": {},
   "outputs": [],
   "source": [
    "### Get the copy of the data\n",
    "i = '15_clicks'\n",
    "X_train = train_data[i]['X']\n",
    "y_train = train_data[i]['Y']\n",
    "X_test = test_data[i]['X']\n",
    "y_test = test_data[i]['Y']\n",
    "\n",
    "### Downsampling the training data\n",
    "### And keep the test data in shape\n",
    "temp = pd.DataFrame({\"session\": X_train, 'purchase': y_train})\n",
    "\n",
    "class_0 = temp[temp.purchase == 0]\n",
    "class_1 = temp[temp.purchase == 1]\n",
    "\n",
    "class_0 = resample(class_0,\n",
    "             replace=True,\n",
    "             n_samples=len(class_1),\n",
    "             random_state=123)\n",
    "\n",
    "\n",
    "data_downsampled = pd.concat([class_0, class_1])\n",
    "\n",
    "X_train = data_downsampled.session\n",
    "y_train = data_downsampled.purchase\n",
    "\n",
    "### Featurization\n",
    "## Doing ngrams with n = 1 AND 2\n",
    "\n",
    "one_gram, maping_1 = encode_sessions(X_train,n=1, mapping=None)\n",
    "two_gram, maping_2 = encode_sessions(X_train,n=2, mapping=None)\n",
    "\n",
    "maping_2 = {key: value + len(maping_1) for key,value in maping_2.items()}\n",
    "maping = {**maping_1, **maping_2}\n",
    "X_train = np.concatenate((one_gram, two_gram), axis=1)\n",
    "\n",
    "# featurize X_test\n",
    "X = np.zeros((len(X_test), len(maping)))\n",
    "for i, session in enumerate(X_test):\n",
    "    for ngram in ngram_featurizer(session, 1) + ngram_featurizer(session, 2):\n",
    "        try:\n",
    "            X[i, maping[ngram]] += 1\n",
    "        except KeyError:\n",
    "            pass\n",
    "X_test = X"
   ]
  },
  {
   "cell_type": "markdown",
   "id": "77d4c491",
   "metadata": {},
   "source": [
    "#### Model Train and Predict"
   ]
  },
  {
   "cell_type": "code",
   "execution_count": 61,
   "id": "99d4a4c8",
   "metadata": {
    "scrolled": true
   },
   "outputs": [
    {
     "name": "stdout",
     "output_type": "stream",
     "text": [
      "{'gamma': 1, 'learning_rate': 0.1, 'max_depth': 4, 'reg_lambda': 9.0, 'scale_pos_weight': 3}\n"
     ]
    }
   ],
   "source": [
    "## ROUND 1\n",
    "# param_grid = {\n",
    "#     'max_depth': [3,4,5],\n",
    "#     'learning_rate': [0.1,0.01,0.05],\n",
    "#     'gamma': [0,0.25,1.0],\n",
    "#     'reg_lambda': [0,1.0, 10.0],\n",
    "#     'scale_pos_weight': [1,3,5]\n",
    "# }\n",
    "\n",
    "# RESULT of the first Round:\n",
    "#       {'gamma': 0.25, 'learning_rate': 0.1, 'max_depth': 5, 'reg_lambda': 10.0, 'scale_pos_weight': 3}\n",
    "\n",
    "## Round 2\n",
    "# param_grid = {\n",
    "#         'gamma': [0.25], \n",
    "#         'learning_rate': [0.1], \n",
    "#         'max_depth': [5, 6, 7],\n",
    "#         'reg_lambda': [9.0, 10.0, 11.0],\n",
    "#         'scale_pos_weight': [3]}\n",
    "\n",
    "optimal_params = GridSearchCV(\n",
    "    estimator=XGBClassifier(objective='binary:logistic',\n",
    "                                seed=123,\n",
    "                                subsample=0.9,\n",
    "                                colsample_bytree=0.5),\n",
    "    param_grid=param_grid,\n",
    "    scoring='f1',\n",
    "    verbose = 0,\n",
    "    n_jobs = 5,\n",
    "    cv = 3\n",
    ")\n",
    "\n",
    "optimal_params.fit(X_train,\n",
    "                   y_train,\n",
    "                  early_stopping_rounds=10,\n",
    "                  eval_metric='aucpr',\n",
    "                  eval_set=[(X_test, y_test)],\n",
    "                  verbose=False)\n",
    "print(optimal_params.best_params_)"
   ]
  },
  {
   "cell_type": "code",
   "execution_count": 62,
   "id": "bc4f8718",
   "metadata": {},
   "outputs": [
    {
     "data": {
      "text/plain": [
       "0.3388543371522095"
      ]
     },
     "execution_count": 62,
     "metadata": {},
     "output_type": "execute_result"
    }
   ],
   "source": [
    "## Fit and Predict\n",
    "preds = optimal_params.predict(X_test)\n",
    "\n",
    "f1 = metrics.f1_score(y_test, preds)\n",
    "\n",
    "f1"
   ]
  },
  {
   "cell_type": "code",
   "execution_count": 63,
   "id": "35eb0fa8",
   "metadata": {
    "scrolled": false
   },
   "outputs": [
    {
     "data": {
      "text/plain": [
       "<sklearn.metrics._plot.confusion_matrix.ConfusionMatrixDisplay at 0x2c30ad2b388>"
      ]
     },
     "execution_count": 63,
     "metadata": {},
     "output_type": "execute_result"
    },
    {
     "data": {
      "image/png": "[encoded data removed]",
      "text/plain": [
       "<Figure size 432x288 with 2 Axes>"
      ]
     },
     "metadata": {
      "needs_background": "light"
     },
     "output_type": "display_data"
    }
   ],
   "source": [
    "from sklearn.metrics import plot_confusion_matrix\n",
    "\n",
    "plot_confusion_matrix(optimal_params,\n",
    "                      X_test,\n",
    "                      y_test,\n",
    "                      values_format='d')"
   ]
  },
  {
   "cell_type": "code",
   "execution_count": 64,
   "id": "56cf744b",
   "metadata": {},
   "outputs": [
    {
     "data": {
      "text/html": [
       "<div>\n",
       "<style scoped>\n",
       "    .dataframe tbody tr th:only-of-type {\n",
       "        vertical-align: middle;\n",
       "    }\n",
       "\n",
       "    .dataframe tbody tr th {\n",
       "        vertical-align: top;\n",
       "    }\n",
       "\n",
       "    .dataframe thead th {\n",
       "        text-align: right;\n",
       "    }\n",
       "</style>\n",
       "<table border=\"1\" class=\"dataframe\">\n",
       "  <thead>\n",
       "    <tr style=\"text-align: right;\">\n",
       "      <th></th>\n",
       "      <th>Predicted Labels</th>\n",
       "      <th>True Labels</th>\n",
       "      <th>Predicted == True</th>\n",
       "      <th>Session Length</th>\n",
       "    </tr>\n",
       "  </thead>\n",
       "  <tbody>\n",
       "    <tr>\n",
       "      <th>0</th>\n",
       "      <td>1</td>\n",
       "      <td>0</td>\n",
       "      <td>0</td>\n",
       "      <td>38</td>\n",
       "    </tr>\n",
       "    <tr>\n",
       "      <th>1</th>\n",
       "      <td>1</td>\n",
       "      <td>0</td>\n",
       "      <td>0</td>\n",
       "      <td>18</td>\n",
       "    </tr>\n",
       "    <tr>\n",
       "      <th>2</th>\n",
       "      <td>1</td>\n",
       "      <td>0</td>\n",
       "      <td>0</td>\n",
       "      <td>45</td>\n",
       "    </tr>\n",
       "    <tr>\n",
       "      <th>3</th>\n",
       "      <td>1</td>\n",
       "      <td>0</td>\n",
       "      <td>0</td>\n",
       "      <td>18</td>\n",
       "    </tr>\n",
       "    <tr>\n",
       "      <th>4</th>\n",
       "      <td>1</td>\n",
       "      <td>0</td>\n",
       "      <td>0</td>\n",
       "      <td>18</td>\n",
       "    </tr>\n",
       "  </tbody>\n",
       "</table>\n",
       "</div>"
      ],
      "text/plain": [
       "   Predicted Labels  True Labels  Predicted == True  Session Length\n",
       "0                 1            0                  0              38\n",
       "1                 1            0                  0              18\n",
       "2                 1            0                  0              45\n",
       "3                 1            0                  0              18\n",
       "4                 1            0                  0              18"
      ]
     },
     "execution_count": 64,
     "metadata": {},
     "output_type": "execute_result"
    }
   ],
   "source": [
    "# Build \n",
    "\n",
    "output_15_clicks = pd.DataFrame(data=preds, columns=['Predicted Labels'])\n",
    "output_15_clicks['True Labels'] = y_test\n",
    "output_15_clicks['Predicted == True'] = np.where(output_15_clicks[\"Predicted Labels\"] == \\\n",
    "                                                 output_15_clicks['True Labels'], 1, 0)\n",
    "output_15_clicks['Session Length'] = [len(x) for x in test_data['15_clicks']['X']]\n",
    "output_15_clicks.head(5)"
   ]
  },
  {
   "cell_type": "code",
   "execution_count": 65,
   "id": "3a0aadf7",
   "metadata": {},
   "outputs": [],
   "source": [
    "#Save output as a csv\n",
    "path = os.path.join(wd, \"data\", \"15_clicks_downsampled.csv\")\n",
    "output_15_clicks.to_csv(path)"
   ]
  },
  {
   "cell_type": "markdown",
   "id": "42dc6ac9",
   "metadata": {},
   "source": [
    "## Error Analysis in R"
   ]
  },
  {
   "cell_type": "code",
   "execution_count": 66,
   "id": "55dc2659",
   "metadata": {},
   "outputs": [
    {
     "name": "stdout",
     "output_type": "stream",
     "text": [
      "The rpy2.ipython extension is already loaded. To reload it, use:\n",
      "  %reload_ext rpy2.ipython\n"
     ]
    }
   ],
   "source": [
    "# pip install rpy2 to be able to run the following cells\n",
    "%load_ext rpy2.ipython"
   ]
  },
  {
   "cell_type": "code",
   "execution_count": 22,
   "id": "b4b02d86",
   "metadata": {},
   "outputs": [],
   "source": [
    "%%R\n",
    "# install the packges if this the first time running R on jupiter\n",
    "install.packages(\"plyr\", repos='http://cran.us.r-project.org')\n",
    "install.packages(\"tidyverse\", repos='http://cran.us.r-project.org')\n",
    "install.packages(\"effects\", repos='http://cran.us.r-project.org')\n",
    "install.packages(\"broom\", repos='http://cran.us.r-project.org')"
   ]
  },
  {
   "cell_type": "code",
   "execution_count": 67,
   "id": "7bb03a4e",
   "metadata": {},
   "outputs": [
    {
     "name": "stdout",
     "output_type": "stream",
     "text": [
      "\n",
      "Error: package or namespace load failed for 'tidyverse' in loadNamespace(j <- i[[1L]], c(lib.loc, .libPaths()), versionCheck = vI[[j]]):\n",
      " there is no package called 'reprex'\n"
     ]
    },
    {
     "ename": "PermissionError",
     "evalue": "[WinError 32] The process cannot access the file because it is being used by another process: 'C:\\\\Users\\\\tvand\\\\AppData\\\\Local\\\\Temp\\\\tmpbbn4jtis\\\\Rplots001.png'",
     "output_type": "error",
     "traceback": [
      "\u001b[1;31m---------------------------------------------------------------------------\u001b[0m",
      "\u001b[1;31mRRuntimeError\u001b[0m                             Traceback (most recent call last)",
      "\u001b[1;32mF:\\Anaconda\\envs\\ACDProj\\lib\\site-packages\\rpy2\\ipython\\rmagic.py\u001b[0m in \u001b[0;36meval\u001b[1;34m(self, code)\u001b[0m\n\u001b[0;32m    253\u001b[0m             \u001b[1;31m# Need the newline in case the last line in code is a comment\u001b[0m\u001b[1;33m\u001b[0m\u001b[1;33m\u001b[0m\u001b[1;33m\u001b[0m\u001b[0m\n\u001b[1;32m--> 254\u001b[1;33m             \u001b[0mvalue\u001b[0m\u001b[1;33m,\u001b[0m \u001b[0mvisible\u001b[0m \u001b[1;33m=\u001b[0m \u001b[0mro\u001b[0m\u001b[1;33m.\u001b[0m\u001b[0mr\u001b[0m\u001b[1;33m(\u001b[0m\u001b[1;34m\"withVisible({%s\\n})\"\u001b[0m \u001b[1;33m%\u001b[0m \u001b[0mcode\u001b[0m\u001b[1;33m)\u001b[0m\u001b[1;33m\u001b[0m\u001b[1;33m\u001b[0m\u001b[0m\n\u001b[0m\u001b[0;32m    255\u001b[0m         \u001b[1;32mexcept\u001b[0m \u001b[1;33m(\u001b[0m\u001b[0mri\u001b[0m\u001b[1;33m.\u001b[0m\u001b[0mRRuntimeError\u001b[0m\u001b[1;33m,\u001b[0m \u001b[0mValueError\u001b[0m\u001b[1;33m)\u001b[0m \u001b[1;32mas\u001b[0m \u001b[0mexception\u001b[0m\u001b[1;33m:\u001b[0m\u001b[1;33m\u001b[0m\u001b[1;33m\u001b[0m\u001b[0m\n",
      "\u001b[1;32mF:\\Anaconda\\envs\\ACDProj\\lib\\site-packages\\rpy2\\robjects\\__init__.py\u001b[0m in \u001b[0;36m__call__\u001b[1;34m(self, string)\u001b[0m\n\u001b[0;32m    351\u001b[0m         \u001b[0mp\u001b[0m \u001b[1;33m=\u001b[0m \u001b[0m_rparse\u001b[0m\u001b[1;33m(\u001b[0m\u001b[0mtext\u001b[0m\u001b[1;33m=\u001b[0m\u001b[0mStrSexpVector\u001b[0m\u001b[1;33m(\u001b[0m\u001b[1;33m(\u001b[0m\u001b[0mstring\u001b[0m\u001b[1;33m,\u001b[0m\u001b[1;33m)\u001b[0m\u001b[1;33m)\u001b[0m\u001b[1;33m)\u001b[0m\u001b[1;33m\u001b[0m\u001b[1;33m\u001b[0m\u001b[0m\n\u001b[1;32m--> 352\u001b[1;33m         \u001b[0mres\u001b[0m \u001b[1;33m=\u001b[0m \u001b[0mself\u001b[0m\u001b[1;33m.\u001b[0m\u001b[0meval\u001b[0m\u001b[1;33m(\u001b[0m\u001b[0mp\u001b[0m\u001b[1;33m)\u001b[0m\u001b[1;33m\u001b[0m\u001b[1;33m\u001b[0m\u001b[0m\n\u001b[0m\u001b[0;32m    353\u001b[0m         \u001b[1;32mreturn\u001b[0m \u001b[0mconversion\u001b[0m\u001b[1;33m.\u001b[0m\u001b[0mri2py\u001b[0m\u001b[1;33m(\u001b[0m\u001b[0mres\u001b[0m\u001b[1;33m)\u001b[0m\u001b[1;33m\u001b[0m\u001b[1;33m\u001b[0m\u001b[0m\n",
      "\u001b[1;32mF:\\Anaconda\\envs\\ACDProj\\lib\\site-packages\\rpy2\\robjects\\functions.py\u001b[0m in \u001b[0;36m__call__\u001b[1;34m(self, *args, **kwargs)\u001b[0m\n\u001b[0;32m    177\u001b[0m                 \u001b[0mkwargs\u001b[0m\u001b[1;33m[\u001b[0m\u001b[0mr_k\u001b[0m\u001b[1;33m]\u001b[0m \u001b[1;33m=\u001b[0m \u001b[0mv\u001b[0m\u001b[1;33m\u001b[0m\u001b[1;33m\u001b[0m\u001b[0m\n\u001b[1;32m--> 178\u001b[1;33m         \u001b[1;32mreturn\u001b[0m \u001b[0msuper\u001b[0m\u001b[1;33m(\u001b[0m\u001b[0mSignatureTranslatedFunction\u001b[0m\u001b[1;33m,\u001b[0m \u001b[0mself\u001b[0m\u001b[1;33m)\u001b[0m\u001b[1;33m.\u001b[0m\u001b[0m__call__\u001b[0m\u001b[1;33m(\u001b[0m\u001b[1;33m*\u001b[0m\u001b[0margs\u001b[0m\u001b[1;33m,\u001b[0m \u001b[1;33m**\u001b[0m\u001b[0mkwargs\u001b[0m\u001b[1;33m)\u001b[0m\u001b[1;33m\u001b[0m\u001b[1;33m\u001b[0m\u001b[0m\n\u001b[0m\u001b[0;32m    179\u001b[0m \u001b[1;33m\u001b[0m\u001b[0m\n",
      "\u001b[1;32mF:\\Anaconda\\envs\\ACDProj\\lib\\site-packages\\rpy2\\robjects\\functions.py\u001b[0m in \u001b[0;36m__call__\u001b[1;34m(self, *args, **kwargs)\u001b[0m\n\u001b[0;32m    105\u001b[0m             \u001b[0mnew_kwargs\u001b[0m\u001b[1;33m[\u001b[0m\u001b[0mk\u001b[0m\u001b[1;33m]\u001b[0m \u001b[1;33m=\u001b[0m \u001b[0mconversion\u001b[0m\u001b[1;33m.\u001b[0m\u001b[0mpy2ri\u001b[0m\u001b[1;33m(\u001b[0m\u001b[0mv\u001b[0m\u001b[1;33m)\u001b[0m\u001b[1;33m\u001b[0m\u001b[1;33m\u001b[0m\u001b[0m\n\u001b[1;32m--> 106\u001b[1;33m         \u001b[0mres\u001b[0m \u001b[1;33m=\u001b[0m \u001b[0msuper\u001b[0m\u001b[1;33m(\u001b[0m\u001b[0mFunction\u001b[0m\u001b[1;33m,\u001b[0m \u001b[0mself\u001b[0m\u001b[1;33m)\u001b[0m\u001b[1;33m.\u001b[0m\u001b[0m__call__\u001b[0m\u001b[1;33m(\u001b[0m\u001b[1;33m*\u001b[0m\u001b[0mnew_args\u001b[0m\u001b[1;33m,\u001b[0m \u001b[1;33m**\u001b[0m\u001b[0mnew_kwargs\u001b[0m\u001b[1;33m)\u001b[0m\u001b[1;33m\u001b[0m\u001b[1;33m\u001b[0m\u001b[0m\n\u001b[0m\u001b[0;32m    107\u001b[0m         \u001b[0mres\u001b[0m \u001b[1;33m=\u001b[0m \u001b[0mconversion\u001b[0m\u001b[1;33m.\u001b[0m\u001b[0mri2ro\u001b[0m\u001b[1;33m(\u001b[0m\u001b[0mres\u001b[0m\u001b[1;33m)\u001b[0m\u001b[1;33m\u001b[0m\u001b[1;33m\u001b[0m\u001b[0m\n",
      "\u001b[1;31mRRuntimeError\u001b[0m: Error: package or namespace load failed for 'tidyverse' in loadNamespace(j <- i[[1L]], c(lib.loc, .libPaths()), versionCheck = vI[[j]]):\n there is no package called 'reprex'\n",
      "\nDuring handling of the above exception, another exception occurred:\n",
      "\u001b[1;31mRInterpreterError\u001b[0m                         Traceback (most recent call last)",
      "\u001b[1;32mF:\\Anaconda\\envs\\ACDProj\\lib\\site-packages\\rpy2\\ipython\\rmagic.py\u001b[0m in \u001b[0;36mR\u001b[1;34m(self, line, cell, local_ns)\u001b[0m\n\u001b[0;32m    703\u001b[0m             \u001b[1;32melse\u001b[0m\u001b[1;33m:\u001b[0m\u001b[1;33m\u001b[0m\u001b[1;33m\u001b[0m\u001b[0m\n\u001b[1;32m--> 704\u001b[1;33m                 \u001b[0mtext_result\u001b[0m\u001b[1;33m,\u001b[0m \u001b[0mresult\u001b[0m\u001b[1;33m,\u001b[0m \u001b[0mvisible\u001b[0m \u001b[1;33m=\u001b[0m \u001b[0mself\u001b[0m\u001b[1;33m.\u001b[0m\u001b[0meval\u001b[0m\u001b[1;33m(\u001b[0m\u001b[0mcode\u001b[0m\u001b[1;33m)\u001b[0m\u001b[1;33m\u001b[0m\u001b[1;33m\u001b[0m\u001b[0m\n\u001b[0m\u001b[0;32m    705\u001b[0m                 \u001b[0mtext_output\u001b[0m \u001b[1;33m+=\u001b[0m \u001b[0mtext_result\u001b[0m\u001b[1;33m\u001b[0m\u001b[1;33m\u001b[0m\u001b[0m\n",
      "\u001b[1;32mF:\\Anaconda\\envs\\ACDProj\\lib\\site-packages\\rpy2\\ipython\\rmagic.py\u001b[0m in \u001b[0;36meval\u001b[1;34m(self, code)\u001b[0m\n\u001b[0;32m    256\u001b[0m             \u001b[0mwarning_or_other_msg\u001b[0m \u001b[1;33m=\u001b[0m \u001b[0mself\u001b[0m\u001b[1;33m.\u001b[0m\u001b[0mflush\u001b[0m\u001b[1;33m(\u001b[0m\u001b[1;33m)\u001b[0m \u001b[1;31m# otherwise next return seems to have copy of error\u001b[0m\u001b[1;33m\u001b[0m\u001b[1;33m\u001b[0m\u001b[0m\n\u001b[1;32m--> 257\u001b[1;33m             \u001b[1;32mraise\u001b[0m \u001b[0mRInterpreterError\u001b[0m\u001b[1;33m(\u001b[0m\u001b[0mcode\u001b[0m\u001b[1;33m,\u001b[0m \u001b[0mstr\u001b[0m\u001b[1;33m(\u001b[0m\u001b[0mexception\u001b[0m\u001b[1;33m)\u001b[0m\u001b[1;33m,\u001b[0m \u001b[0mwarning_or_other_msg\u001b[0m\u001b[1;33m)\u001b[0m\u001b[1;33m\u001b[0m\u001b[1;33m\u001b[0m\u001b[0m\n\u001b[0m\u001b[0;32m    258\u001b[0m         \u001b[0mtext_output\u001b[0m \u001b[1;33m=\u001b[0m \u001b[0mself\u001b[0m\u001b[1;33m.\u001b[0m\u001b[0mflush\u001b[0m\u001b[1;33m(\u001b[0m\u001b[1;33m)\u001b[0m\u001b[1;33m\u001b[0m\u001b[1;33m\u001b[0m\u001b[0m\n",
      "\u001b[1;31mRInterpreterError\u001b[0m: Failed to parse and evaluate line '\\nlibrary(plyr)\\nlibrary(tidyverse)\\nlibrary(effects)\\n'.\nR error message: \"Error: package or namespace load failed for 'tidyverse' in loadNamespace(j <- i[[1L]], c(lib.loc, .libPaths()), versionCheck = vI[[j]]):\\n there is no package called 'reprex'\"",
      "\nDuring handling of the above exception, another exception occurred:\n",
      "\u001b[1;31mPermissionError\u001b[0m                           Traceback (most recent call last)",
      "\u001b[1;32m~\\AppData\\Local\\Temp\\ipykernel_13328\\2121361483.py\u001b[0m in \u001b[0;36m<module>\u001b[1;34m\u001b[0m\n\u001b[1;32m----> 1\u001b[1;33m \u001b[0mget_ipython\u001b[0m\u001b[1;33m(\u001b[0m\u001b[1;33m)\u001b[0m\u001b[1;33m.\u001b[0m\u001b[0mrun_cell_magic\u001b[0m\u001b[1;33m(\u001b[0m\u001b[1;34m'R'\u001b[0m\u001b[1;33m,\u001b[0m \u001b[1;34m''\u001b[0m\u001b[1;33m,\u001b[0m \u001b[1;34m'\\nlibrary(plyr)\\nlibrary(tidyverse)\\nlibrary(effects)\\n'\u001b[0m\u001b[1;33m)\u001b[0m\u001b[1;33m\u001b[0m\u001b[1;33m\u001b[0m\u001b[0m\n\u001b[0m",
      "\u001b[1;32mF:\\Anaconda\\envs\\ACDProj\\lib\\site-packages\\IPython\\core\\interactiveshell.py\u001b[0m in \u001b[0;36mrun_cell_magic\u001b[1;34m(self, magic_name, line, cell)\u001b[0m\n\u001b[0;32m   2417\u001b[0m             \u001b[1;32mwith\u001b[0m \u001b[0mself\u001b[0m\u001b[1;33m.\u001b[0m\u001b[0mbuiltin_trap\u001b[0m\u001b[1;33m:\u001b[0m\u001b[1;33m\u001b[0m\u001b[1;33m\u001b[0m\u001b[0m\n\u001b[0;32m   2418\u001b[0m                 \u001b[0margs\u001b[0m \u001b[1;33m=\u001b[0m \u001b[1;33m(\u001b[0m\u001b[0mmagic_arg_s\u001b[0m\u001b[1;33m,\u001b[0m \u001b[0mcell\u001b[0m\u001b[1;33m)\u001b[0m\u001b[1;33m\u001b[0m\u001b[1;33m\u001b[0m\u001b[0m\n\u001b[1;32m-> 2419\u001b[1;33m                 \u001b[0mresult\u001b[0m \u001b[1;33m=\u001b[0m \u001b[0mfn\u001b[0m\u001b[1;33m(\u001b[0m\u001b[1;33m*\u001b[0m\u001b[0margs\u001b[0m\u001b[1;33m,\u001b[0m \u001b[1;33m**\u001b[0m\u001b[0mkwargs\u001b[0m\u001b[1;33m)\u001b[0m\u001b[1;33m\u001b[0m\u001b[1;33m\u001b[0m\u001b[0m\n\u001b[0m\u001b[0;32m   2420\u001b[0m             \u001b[1;32mreturn\u001b[0m \u001b[0mresult\u001b[0m\u001b[1;33m\u001b[0m\u001b[1;33m\u001b[0m\u001b[0m\n\u001b[0;32m   2421\u001b[0m \u001b[1;33m\u001b[0m\u001b[0m\n",
      "\u001b[1;32mF:\\Anaconda\\envs\\ACDProj\\lib\\site-packages\\decorator.py\u001b[0m in \u001b[0;36mfun\u001b[1;34m(*args, **kw)\u001b[0m\n\u001b[0;32m    230\u001b[0m             \u001b[1;32mif\u001b[0m \u001b[1;32mnot\u001b[0m \u001b[0mkwsyntax\u001b[0m\u001b[1;33m:\u001b[0m\u001b[1;33m\u001b[0m\u001b[1;33m\u001b[0m\u001b[0m\n\u001b[0;32m    231\u001b[0m                 \u001b[0margs\u001b[0m\u001b[1;33m,\u001b[0m \u001b[0mkw\u001b[0m \u001b[1;33m=\u001b[0m \u001b[0mfix\u001b[0m\u001b[1;33m(\u001b[0m\u001b[0margs\u001b[0m\u001b[1;33m,\u001b[0m \u001b[0mkw\u001b[0m\u001b[1;33m,\u001b[0m \u001b[0msig\u001b[0m\u001b[1;33m)\u001b[0m\u001b[1;33m\u001b[0m\u001b[1;33m\u001b[0m\u001b[0m\n\u001b[1;32m--> 232\u001b[1;33m             \u001b[1;32mreturn\u001b[0m \u001b[0mcaller\u001b[0m\u001b[1;33m(\u001b[0m\u001b[0mfunc\u001b[0m\u001b[1;33m,\u001b[0m \u001b[1;33m*\u001b[0m\u001b[1;33m(\u001b[0m\u001b[0mextras\u001b[0m \u001b[1;33m+\u001b[0m \u001b[0margs\u001b[0m\u001b[1;33m)\u001b[0m\u001b[1;33m,\u001b[0m \u001b[1;33m**\u001b[0m\u001b[0mkw\u001b[0m\u001b[1;33m)\u001b[0m\u001b[1;33m\u001b[0m\u001b[1;33m\u001b[0m\u001b[0m\n\u001b[0m\u001b[0;32m    233\u001b[0m     \u001b[0mfun\u001b[0m\u001b[1;33m.\u001b[0m\u001b[0m__name__\u001b[0m \u001b[1;33m=\u001b[0m \u001b[0mfunc\u001b[0m\u001b[1;33m.\u001b[0m\u001b[0m__name__\u001b[0m\u001b[1;33m\u001b[0m\u001b[1;33m\u001b[0m\u001b[0m\n\u001b[0;32m    234\u001b[0m     \u001b[0mfun\u001b[0m\u001b[1;33m.\u001b[0m\u001b[0m__doc__\u001b[0m \u001b[1;33m=\u001b[0m \u001b[0mfunc\u001b[0m\u001b[1;33m.\u001b[0m\u001b[0m__doc__\u001b[0m\u001b[1;33m\u001b[0m\u001b[1;33m\u001b[0m\u001b[0m\n",
      "\u001b[1;32mF:\\Anaconda\\envs\\ACDProj\\lib\\site-packages\\IPython\\core\\magic.py\u001b[0m in \u001b[0;36m<lambda>\u001b[1;34m(f, *a, **k)\u001b[0m\n\u001b[0;32m    185\u001b[0m     \u001b[1;31m# but it's overkill for just that one bit of state.\u001b[0m\u001b[1;33m\u001b[0m\u001b[1;33m\u001b[0m\u001b[1;33m\u001b[0m\u001b[0m\n\u001b[0;32m    186\u001b[0m     \u001b[1;32mdef\u001b[0m \u001b[0mmagic_deco\u001b[0m\u001b[1;33m(\u001b[0m\u001b[0marg\u001b[0m\u001b[1;33m)\u001b[0m\u001b[1;33m:\u001b[0m\u001b[1;33m\u001b[0m\u001b[1;33m\u001b[0m\u001b[0m\n\u001b[1;32m--> 187\u001b[1;33m         \u001b[0mcall\u001b[0m \u001b[1;33m=\u001b[0m \u001b[1;32mlambda\u001b[0m \u001b[0mf\u001b[0m\u001b[1;33m,\u001b[0m \u001b[1;33m*\u001b[0m\u001b[0ma\u001b[0m\u001b[1;33m,\u001b[0m \u001b[1;33m**\u001b[0m\u001b[0mk\u001b[0m\u001b[1;33m:\u001b[0m \u001b[0mf\u001b[0m\u001b[1;33m(\u001b[0m\u001b[1;33m*\u001b[0m\u001b[0ma\u001b[0m\u001b[1;33m,\u001b[0m \u001b[1;33m**\u001b[0m\u001b[0mk\u001b[0m\u001b[1;33m)\u001b[0m\u001b[1;33m\u001b[0m\u001b[1;33m\u001b[0m\u001b[0m\n\u001b[0m\u001b[0;32m    188\u001b[0m \u001b[1;33m\u001b[0m\u001b[0m\n\u001b[0;32m    189\u001b[0m         \u001b[1;32mif\u001b[0m \u001b[0mcallable\u001b[0m\u001b[1;33m(\u001b[0m\u001b[0marg\u001b[0m\u001b[1;33m)\u001b[0m\u001b[1;33m:\u001b[0m\u001b[1;33m\u001b[0m\u001b[1;33m\u001b[0m\u001b[0m\n",
      "\u001b[1;32mF:\\Anaconda\\envs\\ACDProj\\lib\\site-packages\\rpy2\\ipython\\rmagic.py\u001b[0m in \u001b[0;36mR\u001b[1;34m(self, line, cell, local_ns)\u001b[0m\n\u001b[0;32m    717\u001b[0m                 \u001b[0mprint\u001b[0m\u001b[1;33m(\u001b[0m\u001b[0me\u001b[0m\u001b[1;33m.\u001b[0m\u001b[0merr\u001b[0m\u001b[1;33m)\u001b[0m\u001b[1;33m\u001b[0m\u001b[1;33m\u001b[0m\u001b[0m\n\u001b[0;32m    718\u001b[0m             \u001b[1;32mif\u001b[0m \u001b[0mtmpd\u001b[0m\u001b[1;33m:\u001b[0m\u001b[1;33m\u001b[0m\u001b[1;33m\u001b[0m\u001b[0m\n\u001b[1;32m--> 719\u001b[1;33m                 \u001b[0mrmtree\u001b[0m\u001b[1;33m(\u001b[0m\u001b[0mtmpd\u001b[0m\u001b[1;33m)\u001b[0m\u001b[1;33m\u001b[0m\u001b[1;33m\u001b[0m\u001b[0m\n\u001b[0m\u001b[0;32m    720\u001b[0m             \u001b[1;32mreturn\u001b[0m\u001b[1;33m\u001b[0m\u001b[1;33m\u001b[0m\u001b[0m\n\u001b[0;32m    721\u001b[0m         \u001b[1;32mfinally\u001b[0m\u001b[1;33m:\u001b[0m\u001b[1;33m\u001b[0m\u001b[1;33m\u001b[0m\u001b[0m\n",
      "\u001b[1;32mF:\\Anaconda\\envs\\ACDProj\\lib\\shutil.py\u001b[0m in \u001b[0;36mrmtree\u001b[1;34m(path, ignore_errors, onerror)\u001b[0m\n\u001b[0;32m    514\u001b[0m             \u001b[1;31m# can't continue even if onerror hook returns\u001b[0m\u001b[1;33m\u001b[0m\u001b[1;33m\u001b[0m\u001b[1;33m\u001b[0m\u001b[0m\n\u001b[0;32m    515\u001b[0m             \u001b[1;32mreturn\u001b[0m\u001b[1;33m\u001b[0m\u001b[1;33m\u001b[0m\u001b[0m\n\u001b[1;32m--> 516\u001b[1;33m         \u001b[1;32mreturn\u001b[0m \u001b[0m_rmtree_unsafe\u001b[0m\u001b[1;33m(\u001b[0m\u001b[0mpath\u001b[0m\u001b[1;33m,\u001b[0m \u001b[0monerror\u001b[0m\u001b[1;33m)\u001b[0m\u001b[1;33m\u001b[0m\u001b[1;33m\u001b[0m\u001b[0m\n\u001b[0m\u001b[0;32m    517\u001b[0m \u001b[1;33m\u001b[0m\u001b[0m\n\u001b[0;32m    518\u001b[0m \u001b[1;31m# Allow introspection of whether or not the hardening against symlink\u001b[0m\u001b[1;33m\u001b[0m\u001b[1;33m\u001b[0m\u001b[1;33m\u001b[0m\u001b[0m\n",
      "\u001b[1;32mF:\\Anaconda\\envs\\ACDProj\\lib\\shutil.py\u001b[0m in \u001b[0;36m_rmtree_unsafe\u001b[1;34m(path, onerror)\u001b[0m\n\u001b[0;32m    398\u001b[0m                 \u001b[0mos\u001b[0m\u001b[1;33m.\u001b[0m\u001b[0munlink\u001b[0m\u001b[1;33m(\u001b[0m\u001b[0mfullname\u001b[0m\u001b[1;33m)\u001b[0m\u001b[1;33m\u001b[0m\u001b[1;33m\u001b[0m\u001b[0m\n\u001b[0;32m    399\u001b[0m             \u001b[1;32mexcept\u001b[0m \u001b[0mOSError\u001b[0m\u001b[1;33m:\u001b[0m\u001b[1;33m\u001b[0m\u001b[1;33m\u001b[0m\u001b[0m\n\u001b[1;32m--> 400\u001b[1;33m                 \u001b[0monerror\u001b[0m\u001b[1;33m(\u001b[0m\u001b[0mos\u001b[0m\u001b[1;33m.\u001b[0m\u001b[0munlink\u001b[0m\u001b[1;33m,\u001b[0m \u001b[0mfullname\u001b[0m\u001b[1;33m,\u001b[0m \u001b[0msys\u001b[0m\u001b[1;33m.\u001b[0m\u001b[0mexc_info\u001b[0m\u001b[1;33m(\u001b[0m\u001b[1;33m)\u001b[0m\u001b[1;33m)\u001b[0m\u001b[1;33m\u001b[0m\u001b[1;33m\u001b[0m\u001b[0m\n\u001b[0m\u001b[0;32m    401\u001b[0m     \u001b[1;32mtry\u001b[0m\u001b[1;33m:\u001b[0m\u001b[1;33m\u001b[0m\u001b[1;33m\u001b[0m\u001b[0m\n\u001b[0;32m    402\u001b[0m         \u001b[0mos\u001b[0m\u001b[1;33m.\u001b[0m\u001b[0mrmdir\u001b[0m\u001b[1;33m(\u001b[0m\u001b[0mpath\u001b[0m\u001b[1;33m)\u001b[0m\u001b[1;33m\u001b[0m\u001b[1;33m\u001b[0m\u001b[0m\n",
      "\u001b[1;32mF:\\Anaconda\\envs\\ACDProj\\lib\\shutil.py\u001b[0m in \u001b[0;36m_rmtree_unsafe\u001b[1;34m(path, onerror)\u001b[0m\n\u001b[0;32m    396\u001b[0m         \u001b[1;32melse\u001b[0m\u001b[1;33m:\u001b[0m\u001b[1;33m\u001b[0m\u001b[1;33m\u001b[0m\u001b[0m\n\u001b[0;32m    397\u001b[0m             \u001b[1;32mtry\u001b[0m\u001b[1;33m:\u001b[0m\u001b[1;33m\u001b[0m\u001b[1;33m\u001b[0m\u001b[0m\n\u001b[1;32m--> 398\u001b[1;33m                 \u001b[0mos\u001b[0m\u001b[1;33m.\u001b[0m\u001b[0munlink\u001b[0m\u001b[1;33m(\u001b[0m\u001b[0mfullname\u001b[0m\u001b[1;33m)\u001b[0m\u001b[1;33m\u001b[0m\u001b[1;33m\u001b[0m\u001b[0m\n\u001b[0m\u001b[0;32m    399\u001b[0m             \u001b[1;32mexcept\u001b[0m \u001b[0mOSError\u001b[0m\u001b[1;33m:\u001b[0m\u001b[1;33m\u001b[0m\u001b[1;33m\u001b[0m\u001b[0m\n\u001b[0;32m    400\u001b[0m                 \u001b[0monerror\u001b[0m\u001b[1;33m(\u001b[0m\u001b[0mos\u001b[0m\u001b[1;33m.\u001b[0m\u001b[0munlink\u001b[0m\u001b[1;33m,\u001b[0m \u001b[0mfullname\u001b[0m\u001b[1;33m,\u001b[0m \u001b[0msys\u001b[0m\u001b[1;33m.\u001b[0m\u001b[0mexc_info\u001b[0m\u001b[1;33m(\u001b[0m\u001b[1;33m)\u001b[0m\u001b[1;33m)\u001b[0m\u001b[1;33m\u001b[0m\u001b[1;33m\u001b[0m\u001b[0m\n",
      "\u001b[1;31mPermissionError\u001b[0m: [WinError 32] The process cannot access the file because it is being used by another process: 'C:\\\\Users\\\\tvand\\\\AppData\\\\Local\\\\Temp\\\\tmpbbn4jtis\\\\Rplots001.png'"
     ]
    }
   ],
   "source": [
    "%%R\n",
    "\n",
    "library(plyr)\n",
    "library(tidyverse)\n",
    "library(effects)"
   ]
  },
  {
   "cell_type": "code",
   "execution_count": null,
   "id": "834b4cbf",
   "metadata": {},
   "outputs": [],
   "source": [
    "%%R\n",
    "print(R.version.string)"
   ]
  },
  {
   "cell_type": "markdown",
   "id": "a9cbb11d",
   "metadata": {},
   "source": [
    "## Set the correct working directory and import the files"
   ]
  },
  {
   "cell_type": "code",
   "execution_count": null,
   "id": "e0aca697",
   "metadata": {},
   "outputs": [],
   "source": [
    "%%R \n",
    "# set the correct working directory where the 6 csv files are stored\n",
    "setwd(\"D:/GroupAssignment/data/\")"
   ]
  },
  {
   "cell_type": "code",
   "execution_count": null,
   "id": "bad6ebd7",
   "metadata": {},
   "outputs": [],
   "source": [
    "%%R\n",
    "\n",
    "X5_clicks_no_downsampled = read.table(\"5_clicks_no_downsample.csv\", header = T, sep=',')\n",
    "X10_clicks_no_downsampled = read.table(\"10_clicks_no_downsample.csv\", header = T, sep=',')\n",
    "X15_clicks_no_downsampled = read.table(\"15_clicks_no_downsampled.csv\", header = T, sep=',')"
   ]
  },
  {
   "cell_type": "code",
   "execution_count": null,
   "id": "1410a8ea",
   "metadata": {},
   "outputs": [],
   "source": [
    "%%R\n",
    "\n",
    "# cleaning and formatting the files\n",
    "# the 5 clicks buy\n",
    "X5_clicks_downsampled$X <- NULL\n",
    "X5_clicks_downsampled$num_of_clicks <- \"5_clicks\"\n",
    "colnames(X5_clicks_downsampled)[1] <- \"Predicted_Labels\"\n",
    "colnames(X5_clicks_downsampled)[2] <- \"True_Labels\"\n",
    "colnames(X5_clicks_downsampled)[3] <- \"Accurate\"\n",
    "colnames(X5_clicks_downsampled)[4] <-  \"Session_Length\"\n",
    "\n",
    "# the 10 clicks buy\n",
    "X10_clicks_downsampled$X <- NULL\n",
    "X10_clicks_downsampled$num_of_clicks <- \"10_clicks\"\n",
    "colnames(X10_clicks_downsampled)[1] <- \"Predicted_Labels\"\n",
    "colnames(X10_clicks_downsampled)[2] <- \"True_Labels\"\n",
    "colnames(X10_clicks_downsampled)[3] <- \"Accurate\"\n",
    "colnames(X10_clicks_downsampled)[4] <-  \"Session_Length\"\n",
    "\n",
    "# the 15 clicks buy\n",
    "X15_clicks_downsampled$X <- NULL\n",
    "X15_clicks_downsampled$num_of_clicks <- \"15_clicks\"\n",
    "colnames(X15_clicks_downsampled)[1] <- \"Predicted_Labels\"\n",
    "colnames(X15_clicks_downsampled)[2] <- \"True_Labels\"\n",
    "colnames(X15_clicks_downsampled)[3] <- \"Accurate\"\n",
    "colnames(X15_clicks_downsampled)[4] <-  \"Session_Length\"\n",
    "\n",
    "# the 5 clicks no buy\n",
    "X5_clicks_no_downsampled$X <- NULL\n",
    "X5_clicks_no_downsampled$num_of_clicks <- \"5_clicks\"\n",
    "colnames(X5_clicks_no_downsampled)[1] <- \"Predicted_Labels\"\n",
    "colnames(X5_clicks_no_downsampled)[2] <- \"True_Labels\"\n",
    "colnames(X5_clicks_no_downsampled)[3] <- \"Accurate\"\n",
    "colnames(X5_clicks_no_downsampled)[4] <-  \"Session_Length\"\n",
    "\n",
    "# the 10 clicks no buy\n",
    "X10_clicks_no_downsampled$X <- NULL\n",
    "X10_clicks_no_downsampled$num_of_clicks <- \"10_clicks\"\n",
    "colnames(X10_clicks_no_downsampled)[1] <- \"Predicted_Labels\"\n",
    "colnames(X10_clicks_no_downsampled)[2] <- \"True_Labels\"\n",
    "colnames(X10_clicks_no_downsampled)[3] <- \"Accurate\"\n",
    "colnames(X10_clicks_no_downsampled)[4] <-  \"Session_Length\"\n",
    "\n",
    "# the 15 clicks no buy\n",
    "X15_clicks_no_downsampled$X <- NULL\n",
    "X15_clicks_no_downsampled$num_of_clicks <- \"15_clicks\"\n",
    "colnames(X15_clicks_no_downsampled)[1] <- \"Predicted_Labels\"\n",
    "colnames(X15_clicks_no_downsampled)[2] <- \"True_Labels\"\n",
    "colnames(X15_clicks_no_downsampled)[3] <- \"Accurate\"\n",
    "colnames(X15_clicks_no_downsampled)[4] <-  \"Session_Length\""
   ]
  },
  {
   "cell_type": "markdown",
   "id": "0de45c11-b772-4a5d-99e0-ac9c5bdf34ea",
   "metadata": {},
   "source": [
    "## Combining the data frames"
   ]
  },
  {
   "cell_type": "code",
   "execution_count": null,
   "id": "a8bf7574-b31a-49b0-bc12-383eb7a146b2",
   "metadata": {},
   "outputs": [],
   "source": [
    "%%R\n",
    "\n",
    "# combine the 6 data frames to two buy and no_buy data frames\n",
    "buy <- rbind(X5_clicks_downsampled, X10_clicks_downsampled, X15_clicks_downsampled)\n",
    "no_buy <- rbind(X5_clicks_no_downsampled, X10_clicks_no_downsampled, X15_clicks_no_downsampled)\n",
    "\n",
    "head(buy)"
   ]
  },
  {
   "cell_type": "markdown",
   "id": "473a3b91-7799-42b6-bf50-b298120ca3df",
   "metadata": {},
   "source": [
    "## Fitting the data frames in a logistic regression"
   ]
  },
  {
   "cell_type": "code",
   "execution_count": null,
   "id": "67fa4f7a-0b9f-4051-9511-40eec09a17df",
   "metadata": {},
   "outputs": [],
   "source": [
    "%%R\n",
    "\n",
    "# test the logistic regression on the buy and no_buy data frames\n",
    "buy_glm.fit <- glm(Accurate ~ True_Labels + Session_Length + num_of_clicks, data = buy, family = binomial)\n",
    "no_buy_glm.fit <- glm(Accurate ~ True_Labels + Session_Length + num_of_clicks, data = no_buy, family = binomial)"
   ]
  },
  {
   "cell_type": "code",
   "execution_count": null,
   "id": "a2518a8b-6817-4a34-ae78-3817100cd7b1",
   "metadata": {
    "scrolled": true
   },
   "outputs": [],
   "source": [
    "%%R\n",
    "\n",
    "# summerizing the result for the buy group\n",
    "summary(buy_glm.fit)"
   ]
  },
  {
   "cell_type": "code",
   "execution_count": null,
   "id": "09003f51-a7a0-481a-9410-3687051bf1bb",
   "metadata": {
    "scrolled": true
   },
   "outputs": [],
   "source": [
    "%%R\n",
    "\n",
    "# summerizing the result for the on_buy group\n",
    "summary(no_buy_glm.fit)"
   ]
  },
  {
   "cell_type": "markdown",
   "id": "d2e6e861-4e98-4710-82e5-d737b70a15dc",
   "metadata": {},
   "source": [
    "## Making the plots"
   ]
  },
  {
   "cell_type": "code",
   "execution_count": null,
   "id": "8a2b0b6d-65fc-4b40-9162-9b5548b4c623",
   "metadata": {},
   "outputs": [],
   "source": [
    "%%R\n",
    "\n",
    "# create the buy_plot \n",
    "buy_glm.fit.effects = as.data.frame(\n",
    "  Effect(c(\"True_Labels\", \"Session_Length\", \"num_of_clicks\"), buy_glm.fit,\n",
    "         xlevels = list(Session_Length=sort(unique(buy$Session_Length))), \n",
    "         confidence.level=.99))\n",
    "\n",
    "buy_glm.fit.effects$num_of_clicks =factor(buy_glm.fit.effects$num_of_clicks, \n",
    "                                      levels = c(\"5_clicks\", \"10_clicks\", \"15_clicks\"))\n",
    "\n",
    "\n",
    "buy_plot <- ggplot(data = buy_glm.fit.effects, aes(Session_Length, fit, color=num_of_clicks, fill=num_of_clicks)) +\n",
    "                    geom_smooth() +\n",
    "                    labs(y = 'Accuracy', x = \"sequence length\") +\n",
    "                    ggtitle(\"buy_plot = uracy as a function of length, for diffrent numbers of clicks\") +\n",
    "                    scale_y_continuous(limits = c(0,1)) + \n",
    "                    scale_x_continuous(limits = c(5, 160)) +\n",
    "                    theme(legend.direction = \"horizontal\", legend.position = \"bottom\", legend.box = \"horizontal\", legend.key.height = unit(0.5, \"cm\"), legend.key.width = unit(1, \"cm\"))"
   ]
  },
  {
   "cell_type": "code",
   "execution_count": null,
   "id": "79dd8dba-3555-414e-b0a5-d38ce6df2122",
   "metadata": {},
   "outputs": [],
   "source": [
    "%%R\n",
    "\n",
    "# create the no_buy_plot \n",
    "no_buy_glm.fit.effects = as.data.frame(\n",
    "  Effect(c(\"True_Labels\", \"Session_Length\", \"num_of_clicks\"), no_buy_glm.fit,\n",
    "         xlevels = list(Session_Length=sort(unique(no_buy$Session_Length))), \n",
    "         confidence.level=.99))\n",
    "\n",
    "no_buy_glm.fit.effects$num_of_clicks =factor(no_buy_glm.fit.effects$num_of_clicks, \n",
    "                                      levels = c(\"5_clicks\", \"10_clicks\", \"15_clicks\"))\n",
    "\n",
    "\n",
    "no_buy_plot <- ggplot(data = no_buy_glm.fit.effects, aes(Session_Length, fit, color=num_of_clicks, fill=num_of_clicks)) +\n",
    "                    geom_smooth() +\n",
    "                    labs(y = 'Accuracy', x = \"sequence length\") +\n",
    "                    ggtitle(\"no_buy_plot = Accuracy as a function of length, for diffrent numbers of clicks\") +\n",
    "                    scale_y_continuous(limits = c(0,1)) + \n",
    "                    scale_x_continuous(limits = c(5, 160)) +\n",
    "                    theme(legend.direction = \"horizontal\", legend.position = \"bottom\", legend.box = \"horizontal\", legend.key.height = unit(0.5, \"cm\"), legend.key.width = unit(1, \"cm\"))"
   ]
  },
  {
   "cell_type": "markdown",
   "id": "3499f918-e7ab-43a9-b3d9-99454471f4f0",
   "metadata": {},
   "source": [
    "## Printing the Plots"
   ]
  },
  {
   "cell_type": "code",
   "execution_count": null,
   "id": "a5ee5553-a725-4c16-9bb0-f4a4c2c69419",
   "metadata": {},
   "outputs": [],
   "source": [
    "%%R\n",
    "# print the plot\n",
    "buy_plot"
   ]
  },
  {
   "cell_type": "code",
   "execution_count": null,
   "id": "7dff5f0f-5cce-47af-9e74-ef1077066375",
   "metadata": {
    "scrolled": false
   },
   "outputs": [],
   "source": [
    "%%R\n",
    "\n",
    "# print the plot\n",
    "no_buy_plot"
   ]
  }
 ],
 "metadata": {
  "kernelspec": {
   "display_name": "Python 3 (ipykernel)",
   "language": "python",
   "name": "python3"
  },
  "language_info": {
   "codemirror_mode": {
    "name": "ipython",
    "version": 3
   },
   "file_extension": ".py",
   "mimetype": "text/x-python",
   "name": "python",
   "nbconvert_exporter": "python",
   "pygments_lexer": "ipython3",
   "version": "3.7.11"
  },
  "toc": {
   "base_numbering": 1,
   "nav_menu": {},
   "number_sections": true,
   "sideBar": true,
   "skip_h1_title": true,
   "title_cell": "Table of Contents",
   "title_sidebar": "Contents",
   "toc_cell": false,
   "toc_position": {},
   "toc_section_display": true,
   "toc_window_display": true
  }
 },
 "nbformat": 4,
 "nbformat_minor": 5
}

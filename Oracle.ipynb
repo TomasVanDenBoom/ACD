{
 "cells": [
  {
   "cell_type": "code",
   "execution_count": 1,
   "id": "2a2b4556",
   "metadata": {},
   "outputs": [],
   "source": [
    "import os\n",
    "import numpy as np\n",
    "import pandas as pd"
   ]
  },
  {
   "cell_type": "code",
   "execution_count": 2,
   "id": "6e307ce3",
   "metadata": {},
   "outputs": [
    {
     "name": "stdout",
     "output_type": "stream",
     "text": [
      "Loading file from: C:\\Programming\\CustomerAnalysis\\GroupAssignment\\data\\filtered_long.csv\n"
     ]
    },
    {
     "data": {
      "text/html": [
       "<div>\n",
       "<style scoped>\n",
       "    .dataframe tbody tr th:only-of-type {\n",
       "        vertical-align: middle;\n",
       "    }\n",
       "\n",
       "    .dataframe tbody tr th {\n",
       "        vertical-align: top;\n",
       "    }\n",
       "\n",
       "    .dataframe thead th {\n",
       "        text-align: right;\n",
       "    }\n",
       "</style>\n",
       "<table border=\"1\" class=\"dataframe\">\n",
       "  <thead>\n",
       "    <tr style=\"text-align: right;\">\n",
       "      <th></th>\n",
       "      <th>Unnamed: 0</th>\n",
       "      <th>session</th>\n",
       "      <th>purchase</th>\n",
       "      <th>len</th>\n",
       "      <th>add</th>\n",
       "    </tr>\n",
       "  </thead>\n",
       "  <tbody>\n",
       "    <tr>\n",
       "      <th>0</th>\n",
       "      <td>0</td>\n",
       "      <td>(1, 2, 3, 1, 1, 1, 1, 1, 1, 1, 2, 1, 1, 2, 1, ...</td>\n",
       "      <td>0</td>\n",
       "      <td>18</td>\n",
       "      <td>2</td>\n",
       "    </tr>\n",
       "    <tr>\n",
       "      <th>1</th>\n",
       "      <td>1</td>\n",
       "      <td>(1, 1, 1, 2, 1, 1, 2, 1, 1, 1, 1, 2, 1, 1, 1, ...</td>\n",
       "      <td>0</td>\n",
       "      <td>139</td>\n",
       "      <td>18</td>\n",
       "    </tr>\n",
       "    <tr>\n",
       "      <th>2</th>\n",
       "      <td>2</td>\n",
       "      <td>(1, 1, 1, 2, 1, 1, 1, 1, 1, 1, 2, 1, 1, 1, 1, ...</td>\n",
       "      <td>0</td>\n",
       "      <td>41</td>\n",
       "      <td>16</td>\n",
       "    </tr>\n",
       "    <tr>\n",
       "      <th>3</th>\n",
       "      <td>3</td>\n",
       "      <td>(1, 2, 3, 1, 1, 2, 3, 1, 1, 1, 1, 1, 1, 1, 1, 1)</td>\n",
       "      <td>0</td>\n",
       "      <td>16</td>\n",
       "      <td>2</td>\n",
       "    </tr>\n",
       "    <tr>\n",
       "      <th>4</th>\n",
       "      <td>4</td>\n",
       "      <td>(1, 1, 1, 1, 2, 3, 4, 1, 2, 1, 1, 1, 4, 4, 4, ...</td>\n",
       "      <td>1</td>\n",
       "      <td>29</td>\n",
       "      <td>5</td>\n",
       "    </tr>\n",
       "  </tbody>\n",
       "</table>\n",
       "</div>"
      ],
      "text/plain": [
       "   Unnamed: 0                                            session  purchase  \\\n",
       "0           0  (1, 2, 3, 1, 1, 1, 1, 1, 1, 1, 2, 1, 1, 2, 1, ...         0   \n",
       "1           1  (1, 1, 1, 2, 1, 1, 2, 1, 1, 1, 1, 2, 1, 1, 1, ...         0   \n",
       "2           2  (1, 1, 1, 2, 1, 1, 1, 1, 1, 1, 2, 1, 1, 1, 1, ...         0   \n",
       "3           3   (1, 2, 3, 1, 1, 2, 3, 1, 1, 1, 1, 1, 1, 1, 1, 1)         0   \n",
       "4           4  (1, 1, 1, 1, 2, 3, 4, 1, 2, 1, 1, 1, 4, 4, 4, ...         1   \n",
       "\n",
       "   len  add  \n",
       "0   18    2  \n",
       "1  139   18  \n",
       "2   41   16  \n",
       "3   16    2  \n",
       "4   29    5  "
      ]
     },
     "execution_count": 2,
     "metadata": {},
     "output_type": "execute_result"
    }
   ],
   "source": [
    "# Load dataset.\n",
    "\n",
    "################################################################################################\n",
    "###  Filename is based on Preprocessing notebook, please check there if you get any errors   ###\n",
    "################################################################################################\n",
    "\n",
    "dfpath = os.path.join(os.getcwd(), \"data\", \"filtered_long.csv\")\n",
    "print(\"Loading file from: {}\".format(dfpath))\n",
    "\n",
    "df = pd.read_csv(dfpath, header=0)\n",
    "df.head()"
   ]
  },
  {
   "cell_type": "code",
   "execution_count": 3,
   "id": "c178ea70",
   "metadata": {},
   "outputs": [
    {
     "data": {
      "text/plain": [
       "tuple"
      ]
     },
     "execution_count": 3,
     "metadata": {},
     "output_type": "execute_result"
    }
   ],
   "source": [
    "# Format the sessions from a string in the form [1,2,3] to a working tuple\n",
    "df.session = df.session.map(lambda x: tuple(map(int, x.strip(\"()[]\").split(\",\"))))\n",
    "type(df.session[0])"
   ]
  },
  {
   "cell_type": "code",
   "execution_count": 4,
   "id": "c0ccfb9a",
   "metadata": {},
   "outputs": [
    {
     "data": {
      "text/html": [
       "<div>\n",
       "<style scoped>\n",
       "    .dataframe tbody tr th:only-of-type {\n",
       "        vertical-align: middle;\n",
       "    }\n",
       "\n",
       "    .dataframe tbody tr th {\n",
       "        vertical-align: top;\n",
       "    }\n",
       "\n",
       "    .dataframe thead th {\n",
       "        text-align: right;\n",
       "    }\n",
       "</style>\n",
       "<table border=\"1\" class=\"dataframe\">\n",
       "  <thead>\n",
       "    <tr style=\"text-align: right;\">\n",
       "      <th></th>\n",
       "      <th>Unnamed: 0</th>\n",
       "      <th>session</th>\n",
       "      <th>purchase</th>\n",
       "      <th>len</th>\n",
       "      <th>add</th>\n",
       "    </tr>\n",
       "  </thead>\n",
       "  <tbody>\n",
       "    <tr>\n",
       "      <th>129080</th>\n",
       "      <td>129080</td>\n",
       "      <td>(1, 1, 2, 1, 1, 2, 3, 1, 1, 1, 1, 1, 1, 1, 1, ...</td>\n",
       "      <td>0</td>\n",
       "      <td>17</td>\n",
       "      <td>6</td>\n",
       "    </tr>\n",
       "    <tr>\n",
       "      <th>129081</th>\n",
       "      <td>129081</td>\n",
       "      <td>(1, 2, 1, 2, 2, 1, 1, 2, 2, 1, 1, 1, 2, 1, 3, 1)</td>\n",
       "      <td>0</td>\n",
       "      <td>16</td>\n",
       "      <td>14</td>\n",
       "    </tr>\n",
       "    <tr>\n",
       "      <th>129082</th>\n",
       "      <td>129082</td>\n",
       "      <td>(1, 2, 1, 2, 1, 1, 2, 1, 2, 1, 2, 1, 2, 1, 2, ...</td>\n",
       "      <td>0</td>\n",
       "      <td>38</td>\n",
       "      <td>19</td>\n",
       "    </tr>\n",
       "    <tr>\n",
       "      <th>129083</th>\n",
       "      <td>129083</td>\n",
       "      <td>(1, 1, 1, 2, 1, 3, 1, 1, 1, 1, 1, 1, 1)</td>\n",
       "      <td>1</td>\n",
       "      <td>13</td>\n",
       "      <td>5</td>\n",
       "    </tr>\n",
       "    <tr>\n",
       "      <th>129084</th>\n",
       "      <td>129084</td>\n",
       "      <td>(1, 1, 2, 3, 1, 1, 2, 3, 1, 1, 2, 1, 1, 1, 1, ...</td>\n",
       "      <td>1</td>\n",
       "      <td>20</td>\n",
       "      <td>3</td>\n",
       "    </tr>\n",
       "  </tbody>\n",
       "</table>\n",
       "</div>"
      ],
      "text/plain": [
       "        Unnamed: 0                                            session  \\\n",
       "129080      129080  (1, 1, 2, 1, 1, 2, 3, 1, 1, 1, 1, 1, 1, 1, 1, ...   \n",
       "129081      129081   (1, 2, 1, 2, 2, 1, 1, 2, 2, 1, 1, 1, 2, 1, 3, 1)   \n",
       "129082      129082  (1, 2, 1, 2, 1, 1, 2, 1, 2, 1, 2, 1, 2, 1, 2, ...   \n",
       "129083      129083            (1, 1, 1, 2, 1, 3, 1, 1, 1, 1, 1, 1, 1)   \n",
       "129084      129084  (1, 1, 2, 3, 1, 1, 2, 3, 1, 1, 2, 1, 1, 1, 1, ...   \n",
       "\n",
       "        purchase  len  add  \n",
       "129080         0   17    6  \n",
       "129081         0   16   14  \n",
       "129082         0   38   19  \n",
       "129083         1   13    5  \n",
       "129084         1   20    3  "
      ]
     },
     "execution_count": 4,
     "metadata": {},
     "output_type": "execute_result"
    }
   ],
   "source": [
    "# Split set into training and validation set\n",
    "from sklearn.model_selection import train_test_split\n",
    "\n",
    "# No real reason for the selected ratio. In PS they used 70/30. \n",
    "\n",
    "######################################\n",
    "###   Don't forget to set state.   ###\n",
    "######################################\n",
    "\n",
    "training_set, eval_set = train_test_split(df, test_size=0.2, random_state=123, shuffle=False)\n",
    "eval_set.head()"
   ]
  },
  {
   "cell_type": "code",
   "execution_count": 5,
   "id": "442b7e6b",
   "metadata": {},
   "outputs": [],
   "source": [
    "from sklearn import metrics\n",
    "from collections import defaultdict\n",
    "\n",
    "# Ideally Oracle would be a class object that contains information about e.g. clicks but CBA\n",
    "\n",
    "def fit_oracle(data, clicks):\n",
    "    \n",
    "    ### Max clicks determines: \n",
    "    ### - Which sessions are evaluated. Any sessions with a \"tail\" shorter than max clicks are dropped\n",
    "    ### - Where sessions are cut. A session with a \"tail\" longer than max clicks is sliced\n",
    "    data = data[(data['len'] - data['add']) > clicks]\n",
    "    sessions = data.apply(lambda x: x.session[:(x['add'] + clicks + 1)], axis=1)\n",
    "    labels = data.purchase\n",
    "    \n",
    "    del data\n",
    "    \n",
    "    ### I finally caved and used the practical session code.\n",
    "    \n",
    "    d = defaultdict(lambda: defaultdict(int))\n",
    "    for session, label in zip(sessions, labels):\n",
    "        d[str(tuple(session))][label] += 1\n",
    "    \n",
    "    oracle = {}\n",
    "    for session in d.keys():\n",
    "        n_buy, n_ws = 0, 0\n",
    "        for label in d[session].keys():\n",
    "            if label:\n",
    "                n_buy += d[session][label]\n",
    "            else:\n",
    "                n_ws += d[session][label]\n",
    "        oracle[session] = n_buy / (n_buy + n_ws)\n",
    "\n",
    "    return oracle\n",
    "\n",
    "def predict_oracle(oracle, data, clicks):\n",
    "    data = data[(data['len'] - data['add']) > clicks]\n",
    "    sessions = data.apply(lambda x: x.session[:(x['add'] + clicks) + 1], axis=1)    \n",
    "    true = data.purchase\n",
    "    \n",
    "    # The best metric for determining a label is not > 50%\n",
    "    ratio = float((data.purchase[data['purchase'] == 1].value_counts() / len(data.purchase)))\n",
    "    \n",
    "    del data\n",
    "\n",
    "    predict = sessions.map(lambda x: 1 if oracle.get(str(x)) > ratio else 0)\n",
    "\n",
    "    f1 = metrics.f1_score(predict, true)\n",
    "    \n",
    "    return f1"
   ]
  },
  {
   "cell_type": "code",
   "execution_count": 60,
   "id": "d24de839",
   "metadata": {},
   "outputs": [
    {
     "name": "stdout",
     "output_type": "stream",
     "text": [
      "0.24479604219172968\n",
      "0.7088156723063223\n"
     ]
    }
   ],
   "source": [
    "### Do not fit the oracle on the training set! It is a metric for the evaluation set!\n",
    "### This instantly solves the 'missing pattern' issue and matches with the practical session\n",
    "oracle = fit_oracle(eval_set, 5)\n",
    "p5 = predict_oracle(oracle, eval_set, 5)\n",
    "print(p5)"
   ]
  },
  {
   "cell_type": "code",
   "execution_count": null,
   "id": "7024849b",
   "metadata": {},
   "outputs": [],
   "source": []
  }
 ],
 "metadata": {
  "kernelspec": {
   "display_name": "Python 3",
   "language": "python",
   "name": "python3"
  },
  "language_info": {
   "codemirror_mode": {
    "name": "ipython",
    "version": 3
   },
   "file_extension": ".py",
   "mimetype": "text/x-python",
   "name": "python",
   "nbconvert_exporter": "python",
   "pygments_lexer": "ipython3",
   "version": "3.8.8"
  }
 },
 "nbformat": 4,
 "nbformat_minor": 5
}
